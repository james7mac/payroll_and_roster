{
 "cells": [
  {
   "cell_type": "code",
   "execution_count": 65,
   "metadata": {},
   "outputs": [],
   "source": [
    "import pandas as pd\n",
    "from datetime import datetime\n",
    "from sqlalchemy import create_engine\n",
    "import gui, roster"
   ]
  },
  {
   "cell_type": "code",
   "execution_count": 66,
   "metadata": {},
   "outputs": [],
   "source": [
    "working_dir = r'A:\\Python\\payroll_and_roster'\n",
    "con = create_engine(\"sqlite:///swaps.db\", echo=False)"
   ]
  },
  {
   "cell_type": "code",
   "execution_count": 67,
   "metadata": {},
   "outputs": [],
   "source": [
    "with open(working_dir + \"\\\\swaps.db\") as file:\n",
    "    swaps = gui.Swaps()\n",
    "    swaps.swaps = pd.read_sql('Swaps', con)"
   ]
  },
  {
   "cell_type": "code",
   "execution_count": 89,
   "metadata": {},
   "outputs": [
    {
     "data": {
      "text/html": [
       "<div>\n",
       "<style scoped>\n",
       "    .dataframe tbody tr th:only-of-type {\n",
       "        vertical-align: middle;\n",
       "    }\n",
       "\n",
       "    .dataframe tbody tr th {\n",
       "        vertical-align: top;\n",
       "    }\n",
       "\n",
       "    .dataframe thead th {\n",
       "        text-align: right;\n",
       "    }\n",
       "</style>\n",
       "<table border=\"1\" class=\"dataframe\">\n",
       "  <thead>\n",
       "    <tr style=\"text-align: right;\">\n",
       "      <th></th>\n",
       "      <th></th>\n",
       "      <th>Unnamed: 0</th>\n",
       "      <th>id</th>\n",
       "      <th>hours</th>\n",
       "      <th>start</th>\n",
       "      <th>finish</th>\n",
       "      <th>rest</th>\n",
       "    </tr>\n",
       "    <tr>\n",
       "      <th>rosLine</th>\n",
       "      <th>rosDay</th>\n",
       "      <th></th>\n",
       "      <th></th>\n",
       "      <th></th>\n",
       "      <th></th>\n",
       "      <th></th>\n",
       "      <th></th>\n",
       "    </tr>\n",
       "  </thead>\n",
       "  <tbody>\n",
       "    <tr>\n",
       "      <th rowspan=\"13\" valign=\"top\">1</th>\n",
       "      <th>16</th>\n",
       "      <td>0</td>\n",
       "      <td>SPE162</td>\n",
       "      <td>7:31</td>\n",
       "      <td>2021-01-22 14:22:00</td>\n",
       "      <td>2021-01-22 21:53:00</td>\n",
       "      <td>False</td>\n",
       "    </tr>\n",
       "    <tr>\n",
       "      <th>17</th>\n",
       "      <td>0</td>\n",
       "      <td>SPE166</td>\n",
       "      <td>7:59</td>\n",
       "      <td>2021-01-22 15:21:00</td>\n",
       "      <td>2021-01-22 23:20:00</td>\n",
       "      <td>False</td>\n",
       "    </tr>\n",
       "    <tr>\n",
       "      <th>18</th>\n",
       "      <td>0</td>\n",
       "      <td>SPE166</td>\n",
       "      <td>7:59</td>\n",
       "      <td>2021-01-22 15:21:00</td>\n",
       "      <td>2021-01-22 23:20:00</td>\n",
       "      <td>False</td>\n",
       "    </tr>\n",
       "    <tr>\n",
       "      <th>19</th>\n",
       "      <td>0</td>\n",
       "      <td>EDO</td>\n",
       "      <td>NaN</td>\n",
       "      <td>NaT</td>\n",
       "      <td>NaT</td>\n",
       "      <td>False</td>\n",
       "    </tr>\n",
       "    <tr>\n",
       "      <th>20</th>\n",
       "      <td>0</td>\n",
       "      <td>OFF</td>\n",
       "      <td>NaN</td>\n",
       "      <td>NaT</td>\n",
       "      <td>NaT</td>\n",
       "      <td>False</td>\n",
       "    </tr>\n",
       "    <tr>\n",
       "      <th>21</th>\n",
       "      <td>0</td>\n",
       "      <td>OFF</td>\n",
       "      <td>NaN</td>\n",
       "      <td>NaT</td>\n",
       "      <td>NaT</td>\n",
       "      <td>False</td>\n",
       "    </tr>\n",
       "    <tr>\n",
       "      <th>22</th>\n",
       "      <td>0</td>\n",
       "      <td>OFF</td>\n",
       "      <td>NaN</td>\n",
       "      <td>NaT</td>\n",
       "      <td>NaT</td>\n",
       "      <td>False</td>\n",
       "    </tr>\n",
       "    <tr>\n",
       "      <th>23</th>\n",
       "      <td>0</td>\n",
       "      <td>SPE142</td>\n",
       "      <td>7:14</td>\n",
       "      <td>2021-01-22 06:19:00</td>\n",
       "      <td>2021-01-22 13:33:00</td>\n",
       "      <td>False</td>\n",
       "    </tr>\n",
       "    <tr>\n",
       "      <th>24</th>\n",
       "      <td>0</td>\n",
       "      <td>SPE142</td>\n",
       "      <td>7:14</td>\n",
       "      <td>2021-01-22 06:19:00</td>\n",
       "      <td>2021-01-22 13:33:00</td>\n",
       "      <td>False</td>\n",
       "    </tr>\n",
       "    <tr>\n",
       "      <th>25</th>\n",
       "      <td>0</td>\n",
       "      <td>SPE141</td>\n",
       "      <td>8:06</td>\n",
       "      <td>2021-01-22 06:07:00</td>\n",
       "      <td>2021-01-22 14:13:00</td>\n",
       "      <td>False</td>\n",
       "    </tr>\n",
       "    <tr>\n",
       "      <th>26</th>\n",
       "      <td>0</td>\n",
       "      <td>SPE141</td>\n",
       "      <td>8:06</td>\n",
       "      <td>2021-01-22 06:07:00</td>\n",
       "      <td>2021-01-22 14:13:00</td>\n",
       "      <td>False</td>\n",
       "    </tr>\n",
       "    <tr>\n",
       "      <th>27</th>\n",
       "      <td>0</td>\n",
       "      <td>SPE134</td>\n",
       "      <td>6:47</td>\n",
       "      <td>2021-01-22 05:31:00</td>\n",
       "      <td>2021-01-22 12:18:00</td>\n",
       "      <td>False</td>\n",
       "    </tr>\n",
       "    <tr>\n",
       "      <th>28</th>\n",
       "      <td>0</td>\n",
       "      <td>OFF</td>\n",
       "      <td>NaN</td>\n",
       "      <td>NaT</td>\n",
       "      <td>NaT</td>\n",
       "      <td>False</td>\n",
       "    </tr>\n",
       "    <tr>\n",
       "      <th rowspan=\"15\" valign=\"top\">2</th>\n",
       "      <th>1</th>\n",
       "      <td>0</td>\n",
       "      <td>OFF</td>\n",
       "      <td>NaN</td>\n",
       "      <td>NaT</td>\n",
       "      <td>NaT</td>\n",
       "      <td>False</td>\n",
       "    </tr>\n",
       "    <tr>\n",
       "      <th>2</th>\n",
       "      <td>0</td>\n",
       "      <td>SPER110</td>\n",
       "      <td>5:47</td>\n",
       "      <td>2021-01-22 17:28:00</td>\n",
       "      <td>2021-01-22 23:15:00</td>\n",
       "      <td>False</td>\n",
       "    </tr>\n",
       "    <tr>\n",
       "      <th>3</th>\n",
       "      <td>0</td>\n",
       "      <td>SPEX114</td>\n",
       "      <td>6:32</td>\n",
       "      <td>2021-01-22 13:05:00</td>\n",
       "      <td>2021-01-22 19:37:00</td>\n",
       "      <td>True</td>\n",
       "    </tr>\n",
       "    <tr>\n",
       "      <th>4</th>\n",
       "      <td>0</td>\n",
       "      <td>SPE151</td>\n",
       "      <td>7:13</td>\n",
       "      <td>2021-01-22 11:56:00</td>\n",
       "      <td>2021-01-22 19:09:00</td>\n",
       "      <td>False</td>\n",
       "    </tr>\n",
       "    <tr>\n",
       "      <th>5</th>\n",
       "      <td>0</td>\n",
       "      <td>SPE151</td>\n",
       "      <td>7:13</td>\n",
       "      <td>2021-01-22 11:56:00</td>\n",
       "      <td>2021-01-22 19:09:00</td>\n",
       "      <td>False</td>\n",
       "    </tr>\n",
       "    <tr>\n",
       "      <th>6</th>\n",
       "      <td>0</td>\n",
       "      <td>OFF</td>\n",
       "      <td>NaN</td>\n",
       "      <td>NaT</td>\n",
       "      <td>NaT</td>\n",
       "      <td>False</td>\n",
       "    </tr>\n",
       "    <tr>\n",
       "      <th>7</th>\n",
       "      <td>0</td>\n",
       "      <td>SPE203</td>\n",
       "      <td>7:28</td>\n",
       "      <td>2021-01-22 13:50:00</td>\n",
       "      <td>2021-01-22 21:18:00</td>\n",
       "      <td>False</td>\n",
       "    </tr>\n",
       "    <tr>\n",
       "      <th>8</th>\n",
       "      <td>0</td>\n",
       "      <td>SPE117</td>\n",
       "      <td>6:00</td>\n",
       "      <td>2021-01-22 13:30:00</td>\n",
       "      <td>2021-01-22 19:30:00</td>\n",
       "      <td>False</td>\n",
       "    </tr>\n",
       "    <tr>\n",
       "      <th>9</th>\n",
       "      <td>0</td>\n",
       "      <td>SPE160</td>\n",
       "      <td>8:51</td>\n",
       "      <td>2021-01-22 13:30:00</td>\n",
       "      <td>2021-01-22 22:21:00</td>\n",
       "      <td>False</td>\n",
       "    </tr>\n",
       "    <tr>\n",
       "      <th>10</th>\n",
       "      <td>0</td>\n",
       "      <td>SPE160</td>\n",
       "      <td>8:51</td>\n",
       "      <td>2021-01-22 13:30:00</td>\n",
       "      <td>2021-01-22 22:21:00</td>\n",
       "      <td>False</td>\n",
       "    </tr>\n",
       "    <tr>\n",
       "      <th>11</th>\n",
       "      <td>0</td>\n",
       "      <td>SPE159</td>\n",
       "      <td>6:19</td>\n",
       "      <td>2021-01-22 13:22:00</td>\n",
       "      <td>2021-01-22 19:41:00</td>\n",
       "      <td>False</td>\n",
       "    </tr>\n",
       "    <tr>\n",
       "      <th>12</th>\n",
       "      <td>0</td>\n",
       "      <td>SPE159</td>\n",
       "      <td>6:19</td>\n",
       "      <td>2021-01-22 13:22:00</td>\n",
       "      <td>2021-01-22 19:41:00</td>\n",
       "      <td>False</td>\n",
       "    </tr>\n",
       "    <tr>\n",
       "      <th>13</th>\n",
       "      <td>0</td>\n",
       "      <td>OFF</td>\n",
       "      <td>NaN</td>\n",
       "      <td>NaT</td>\n",
       "      <td>NaT</td>\n",
       "      <td>False</td>\n",
       "    </tr>\n",
       "    <tr>\n",
       "      <th>14</th>\n",
       "      <td>0</td>\n",
       "      <td>OFF</td>\n",
       "      <td>NaN</td>\n",
       "      <td>NaT</td>\n",
       "      <td>NaT</td>\n",
       "      <td>False</td>\n",
       "    </tr>\n",
       "    <tr>\n",
       "      <th>15</th>\n",
       "      <td>0</td>\n",
       "      <td>OFF</td>\n",
       "      <td>NaN</td>\n",
       "      <td>NaT</td>\n",
       "      <td>NaT</td>\n",
       "      <td>False</td>\n",
       "    </tr>\n",
       "  </tbody>\n",
       "</table>\n",
       "</div>"
      ],
      "text/plain": [
       "                Unnamed: 0       id hours               start  \\\n",
       "rosLine rosDay                                                  \n",
       "1       16               0   SPE162  7:31 2021-01-22 14:22:00   \n",
       "        17               0   SPE166  7:59 2021-01-22 15:21:00   \n",
       "        18               0   SPE166  7:59 2021-01-22 15:21:00   \n",
       "        19               0      EDO   NaN                 NaT   \n",
       "        20               0      OFF   NaN                 NaT   \n",
       "        21               0      OFF   NaN                 NaT   \n",
       "        22               0      OFF   NaN                 NaT   \n",
       "        23               0   SPE142  7:14 2021-01-22 06:19:00   \n",
       "        24               0   SPE142  7:14 2021-01-22 06:19:00   \n",
       "        25               0   SPE141  8:06 2021-01-22 06:07:00   \n",
       "        26               0   SPE141  8:06 2021-01-22 06:07:00   \n",
       "        27               0   SPE134  6:47 2021-01-22 05:31:00   \n",
       "        28               0      OFF   NaN                 NaT   \n",
       "2       1                0      OFF   NaN                 NaT   \n",
       "        2                0  SPER110  5:47 2021-01-22 17:28:00   \n",
       "        3                0  SPEX114  6:32 2021-01-22 13:05:00   \n",
       "        4                0   SPE151  7:13 2021-01-22 11:56:00   \n",
       "        5                0   SPE151  7:13 2021-01-22 11:56:00   \n",
       "        6                0      OFF   NaN                 NaT   \n",
       "        7                0   SPE203  7:28 2021-01-22 13:50:00   \n",
       "        8                0   SPE117  6:00 2021-01-22 13:30:00   \n",
       "        9                0   SPE160  8:51 2021-01-22 13:30:00   \n",
       "        10               0   SPE160  8:51 2021-01-22 13:30:00   \n",
       "        11               0   SPE159  6:19 2021-01-22 13:22:00   \n",
       "        12               0   SPE159  6:19 2021-01-22 13:22:00   \n",
       "        13               0      OFF   NaN                 NaT   \n",
       "        14               0      OFF   NaN                 NaT   \n",
       "        15               0      OFF   NaN                 NaT   \n",
       "\n",
       "                            finish   rest  \n",
       "rosLine rosDay                             \n",
       "1       16     2021-01-22 21:53:00  False  \n",
       "        17     2021-01-22 23:20:00  False  \n",
       "        18     2021-01-22 23:20:00  False  \n",
       "        19                     NaT  False  \n",
       "        20                     NaT  False  \n",
       "        21                     NaT  False  \n",
       "        22                     NaT  False  \n",
       "        23     2021-01-22 13:33:00  False  \n",
       "        24     2021-01-22 13:33:00  False  \n",
       "        25     2021-01-22 14:13:00  False  \n",
       "        26     2021-01-22 14:13:00  False  \n",
       "        27     2021-01-22 12:18:00  False  \n",
       "        28                     NaT  False  \n",
       "2       1                      NaT  False  \n",
       "        2      2021-01-22 23:15:00  False  \n",
       "        3      2021-01-22 19:37:00   True  \n",
       "        4      2021-01-22 19:09:00  False  \n",
       "        5      2021-01-22 19:09:00  False  \n",
       "        6                      NaT  False  \n",
       "        7      2021-01-22 21:18:00  False  \n",
       "        8      2021-01-22 19:30:00  False  \n",
       "        9      2021-01-22 22:21:00  False  \n",
       "        10     2021-01-22 22:21:00  False  \n",
       "        11     2021-01-22 19:41:00  False  \n",
       "        12     2021-01-22 19:41:00  False  \n",
       "        13                     NaT  False  \n",
       "        14                     NaT  False  \n",
       "        15                     NaT  False  "
      ]
     },
     "execution_count": 89,
     "metadata": {},
     "output_type": "execute_result"
    }
   ],
   "source": [
    "cal = gui.calend(datetime(2021,2,1))\n",
    "roster_ = roster.Roster()\n",
    "shifts = gui.get_shifts(cal, roster_, 1)\n",
    "x = [True if i > 0 else False for i in cal.itermonthdays(cal.date.year,cal.date.month)]\n",
    "shifts = shifts[:len(x)]\n",
    "shifts[x]"
   ]
  },
  {
   "cell_type": "code",
   "execution_count": 31,
   "metadata": {},
   "outputs": [],
   "source": [
    "nw = pd.DataFrame({'swap_with':['TEST'], 'to_line': [6], 'dates': [datetime(2021,12,30)]})"
   ]
  },
  {
   "cell_type": "code",
   "execution_count": 32,
   "metadata": {},
   "outputs": [
    {
     "data": {
      "text/html": [
       "<div>\n",
       "<style scoped>\n",
       "    .dataframe tbody tr th:only-of-type {\n",
       "        vertical-align: middle;\n",
       "    }\n",
       "\n",
       "    .dataframe tbody tr th {\n",
       "        vertical-align: top;\n",
       "    }\n",
       "\n",
       "    .dataframe thead th {\n",
       "        text-align: right;\n",
       "    }\n",
       "</style>\n",
       "<table border=\"1\" class=\"dataframe\">\n",
       "  <thead>\n",
       "    <tr style=\"text-align: right;\">\n",
       "      <th></th>\n",
       "      <th>swap_with</th>\n",
       "      <th>to_line</th>\n",
       "      <th>dates</th>\n",
       "    </tr>\n",
       "  </thead>\n",
       "  <tbody>\n",
       "    <tr>\n",
       "      <th>0</th>\n",
       "      <td>name</td>\n",
       "      <td>0</td>\n",
       "      <td>2021-02-25</td>\n",
       "    </tr>\n",
       "    <tr>\n",
       "      <th>1</th>\n",
       "      <td>name</td>\n",
       "      <td>0</td>\n",
       "      <td>2021-02-24</td>\n",
       "    </tr>\n",
       "    <tr>\n",
       "      <th>2</th>\n",
       "      <td>name</td>\n",
       "      <td>0</td>\n",
       "      <td>2021-02-23</td>\n",
       "    </tr>\n",
       "    <tr>\n",
       "      <th>3</th>\n",
       "      <td>name</td>\n",
       "      <td>0</td>\n",
       "      <td>2021-02-16</td>\n",
       "    </tr>\n",
       "    <tr>\n",
       "      <th>4</th>\n",
       "      <td>name</td>\n",
       "      <td>0</td>\n",
       "      <td>2021-02-17</td>\n",
       "    </tr>\n",
       "    <tr>\n",
       "      <th>5</th>\n",
       "      <td>name</td>\n",
       "      <td>0</td>\n",
       "      <td>2021-02-18</td>\n",
       "    </tr>\n",
       "    <tr>\n",
       "      <th>6</th>\n",
       "      <td>name</td>\n",
       "      <td>0</td>\n",
       "      <td>2021-02-11</td>\n",
       "    </tr>\n",
       "    <tr>\n",
       "      <th>7</th>\n",
       "      <td>name</td>\n",
       "      <td>0</td>\n",
       "      <td>2021-02-10</td>\n",
       "    </tr>\n",
       "    <tr>\n",
       "      <th>8</th>\n",
       "      <td>name</td>\n",
       "      <td>0</td>\n",
       "      <td>2021-02-09</td>\n",
       "    </tr>\n",
       "    <tr>\n",
       "      <th>9</th>\n",
       "      <td>TEST</td>\n",
       "      <td>6</td>\n",
       "      <td>2021-06-30</td>\n",
       "    </tr>\n",
       "    <tr>\n",
       "      <th>10</th>\n",
       "      <td>TEST</td>\n",
       "      <td>6</td>\n",
       "      <td>2021-06-30</td>\n",
       "    </tr>\n",
       "    <tr>\n",
       "      <th>11</th>\n",
       "      <td>TEST</td>\n",
       "      <td>6</td>\n",
       "      <td>2021-12-30</td>\n",
       "    </tr>\n",
       "  </tbody>\n",
       "</table>\n",
       "</div>"
      ],
      "text/plain": [
       "   swap_with to_line      dates\n",
       "0       name       0 2021-02-25\n",
       "1       name       0 2021-02-24\n",
       "2       name       0 2021-02-23\n",
       "3       name       0 2021-02-16\n",
       "4       name       0 2021-02-17\n",
       "5       name       0 2021-02-18\n",
       "6       name       0 2021-02-11\n",
       "7       name       0 2021-02-10\n",
       "8       name       0 2021-02-09\n",
       "9       TEST       6 2021-06-30\n",
       "10      TEST       6 2021-06-30\n",
       "11      TEST       6 2021-12-30"
      ]
     },
     "execution_count": 32,
     "metadata": {},
     "output_type": "execute_result"
    }
   ],
   "source": [
    "swaps.swaps = swaps.swaps.append(nw, ignore_index=True)\n",
    "swaps.swaps"
   ]
  },
  {
   "cell_type": "code",
   "execution_count": 57,
   "metadata": {},
   "outputs": [
    {
     "data": {
      "text/html": [
       "<div>\n",
       "<style scoped>\n",
       "    .dataframe tbody tr th:only-of-type {\n",
       "        vertical-align: middle;\n",
       "    }\n",
       "\n",
       "    .dataframe tbody tr th {\n",
       "        vertical-align: top;\n",
       "    }\n",
       "\n",
       "    .dataframe thead th {\n",
       "        text-align: right;\n",
       "    }\n",
       "</style>\n",
       "<table border=\"1\" class=\"dataframe\">\n",
       "  <thead>\n",
       "    <tr style=\"text-align: right;\">\n",
       "      <th></th>\n",
       "      <th>to_line</th>\n",
       "      <th>dates</th>\n",
       "    </tr>\n",
       "  </thead>\n",
       "  <tbody>\n",
       "    <tr>\n",
       "      <th>0</th>\n",
       "      <td>0</td>\n",
       "      <td>2021-02-25</td>\n",
       "    </tr>\n",
       "    <tr>\n",
       "      <th>1</th>\n",
       "      <td>0</td>\n",
       "      <td>2021-02-24</td>\n",
       "    </tr>\n",
       "    <tr>\n",
       "      <th>2</th>\n",
       "      <td>0</td>\n",
       "      <td>2021-02-23</td>\n",
       "    </tr>\n",
       "    <tr>\n",
       "      <th>3</th>\n",
       "      <td>0</td>\n",
       "      <td>2021-02-16</td>\n",
       "    </tr>\n",
       "    <tr>\n",
       "      <th>4</th>\n",
       "      <td>0</td>\n",
       "      <td>2021-02-17</td>\n",
       "    </tr>\n",
       "    <tr>\n",
       "      <th>5</th>\n",
       "      <td>0</td>\n",
       "      <td>2021-02-18</td>\n",
       "    </tr>\n",
       "    <tr>\n",
       "      <th>6</th>\n",
       "      <td>0</td>\n",
       "      <td>2021-02-11</td>\n",
       "    </tr>\n",
       "    <tr>\n",
       "      <th>7</th>\n",
       "      <td>0</td>\n",
       "      <td>2021-02-10</td>\n",
       "    </tr>\n",
       "    <tr>\n",
       "      <th>8</th>\n",
       "      <td>0</td>\n",
       "      <td>2021-02-09</td>\n",
       "    </tr>\n",
       "    <tr>\n",
       "      <th>9</th>\n",
       "      <td>6</td>\n",
       "      <td>2021-06-30</td>\n",
       "    </tr>\n",
       "    <tr>\n",
       "      <th>10</th>\n",
       "      <td>6</td>\n",
       "      <td>2021-06-30</td>\n",
       "    </tr>\n",
       "    <tr>\n",
       "      <th>11</th>\n",
       "      <td>6</td>\n",
       "      <td>2021-12-30</td>\n",
       "    </tr>\n",
       "  </tbody>\n",
       "</table>\n",
       "</div>"
      ],
      "text/plain": [
       "   to_line      dates\n",
       "0        0 2021-02-25\n",
       "1        0 2021-02-24\n",
       "2        0 2021-02-23\n",
       "3        0 2021-02-16\n",
       "4        0 2021-02-17\n",
       "5        0 2021-02-18\n",
       "6        0 2021-02-11\n",
       "7        0 2021-02-10\n",
       "8        0 2021-02-09\n",
       "9        6 2021-06-30\n",
       "10       6 2021-06-30\n",
       "11       6 2021-12-30"
      ]
     },
     "execution_count": 57,
     "metadata": {},
     "output_type": "execute_result"
    }
   ],
   "source": [
    "s = swaps.swaps\n",
    "s[['to_line','dates']]"
   ]
  },
  {
   "cell_type": "code",
   "execution_count": 53,
   "metadata": {},
   "outputs": [
    {
     "data": {
      "text/html": [
       "<div>\n",
       "<style scoped>\n",
       "    .dataframe tbody tr th:only-of-type {\n",
       "        vertical-align: middle;\n",
       "    }\n",
       "\n",
       "    .dataframe tbody tr th {\n",
       "        vertical-align: top;\n",
       "    }\n",
       "\n",
       "    .dataframe thead th {\n",
       "        text-align: right;\n",
       "    }\n",
       "</style>\n",
       "<table border=\"1\" class=\"dataframe\">\n",
       "  <thead>\n",
       "    <tr style=\"text-align: right;\">\n",
       "      <th></th>\n",
       "      <th>swap_with</th>\n",
       "      <th>to_line</th>\n",
       "      <th>dates</th>\n",
       "    </tr>\n",
       "  </thead>\n",
       "  <tbody>\n",
       "    <tr>\n",
       "      <th>11</th>\n",
       "      <td>TEST</td>\n",
       "      <td>6</td>\n",
       "      <td>2021-12-30</td>\n",
       "    </tr>\n",
       "  </tbody>\n",
       "</table>\n",
       "</div>"
      ],
      "text/plain": [
       "   swap_with to_line      dates\n",
       "11      TEST       6 2021-12-30"
      ]
     },
     "execution_count": 53,
     "metadata": {},
     "output_type": "execute_result"
    }
   ],
   "source": [
    "d = datetime(2021,12,30).date()\n",
    "s[s.dates == pd.Timestamp(d)]"
   ]
  },
  {
   "cell_type": "code",
   "execution_count": null,
   "metadata": {},
   "outputs": [],
   "source": []
  },
  {
   "cell_type": "code",
   "execution_count": null,
   "metadata": {},
   "outputs": [],
   "source": []
  },
  {
   "cell_type": "code",
   "execution_count": null,
   "metadata": {},
   "outputs": [],
   "source": []
  },
  {
   "cell_type": "code",
   "execution_count": null,
   "metadata": {},
   "outputs": [],
   "source": []
  },
  {
   "cell_type": "code",
   "execution_count": 2,
   "metadata": {},
   "outputs": [
    {
     "name": "stderr",
     "output_type": "stream",
     "text": [
      " 2021-01-12 15:32:39,632 - DEBUG- Start of program\n"
     ]
    },
    {
     "name": "stdout",
     "output_type": "stream",
     "text": [
      "2020-01-01   New Year's Day\n",
      "2020-01-26   Australia Day\n",
      "2020-01-27   Australia Day (Observed)\n",
      "2020-03-09   Labour Day\n",
      "2020-04-10   Good Friday\n",
      "2020-04-11   Easter Saturday\n",
      "2020-04-12   Easter Sunday\n",
      "2020-04-13   Easter Monday\n",
      "2020-04-25   Anzac Day\n",
      "2020-06-08   Queen's Birthday\n",
      "2020-10-23   Grand Final Day\n",
      "2020-11-03   Melbourne Cup\n",
      "2020-12-25   Christmas Day\n",
      "2020-12-26   Boxing Day\n",
      "2020-12-28   Boxing Day (Observed)\n",
      "A:\\Python\\payroll_and_roster\\\\MasterRoster.pdf\n"
     ]
    }
   ],
   "source": [
    "import tabula, roster, os\n",
    "if os.environ['COMPUTERNAME'] == 'JMLAPTOP':\n",
    "    pdfPath =   r'C:\\Users\\james\\PycharmProjects\\payroll_and_roster\\MasterRoster.pdf'\n",
    "elif os.environ['COMPUTERNAME'] == 'JAMESPC':\n",
    "    pdfPath = r'A:\\Python\\payroll_and_roster\\\\MasterRoster.pdf'\n",
    "print(pdfPath)"
   ]
  },
  {
   "cell_type": "code",
   "execution_count": 3,
   "metadata": {
    "scrolled": true
   },
   "outputs": [],
   "source": [
    "pdfFullPages = 8 + 1 \n",
    "lastPcoords = [148.6, 107.0 ,1166.4, 251.5]\n",
    "tabular_roster = pd.DataFrame()\n",
    "for i in range(1,pdfFullPages+1):\n",
    "    roster_pdf = open(pdfPath,'rb')\n",
    "    #coords of the area in the roster found using GIMP:\n",
    "    if i == pdfFullPages+1:\n",
    "        x = tabula.read_pdf(roster_pdf, pages=int(i), lattice=1, area=lastPcoords)\n",
    "        print('AA')\n",
    "    else:\n",
    "        x = tabula.read_pdf(roster_pdf, pages=int(i), lattice=1, area=[100,149,589, 1167.9])\n",
    "    x.dropna(axis=0, thresh=30, inplace=True)\n",
    "    x.dropna(axis=1,how='all', inplace=True)\n",
    "    x.columns = [str(i) for i in range(1,15)] + ['h1'] + [str(i) for i in range(15,29)] + ['h2']\n",
    "    tabular_roster = tabular_roster.append(x)\n",
    "    \n",
    "tabular_roster.index = [str(i+1) for i in range(len(tabular_roster))]\n",
    "tabular_roster.drop(['h1', 'h2'], axis=1, inplace=True)"
   ]
  },
  {
   "cell_type": "code",
   "execution_count": 4,
   "metadata": {
    "scrolled": true
   },
   "outputs": [],
   "source": [
    "def fix_times(timeStr):\n",
    "    if timeStr == '2400':\n",
    "        timeStr='0000'\n",
    "    return datetime.strptime(timeStr, \"%H%M\").time()\n",
    "    \n",
    "def fix_cell(x):\n",
    "    fix_cell.helper +=1\n",
    "    try:\n",
    "        if x.startswith('OFF'):\n",
    "            items = {'id': 'OFF', 'hours':None, 'start':None, 'finish': None, 'rest':False}\n",
    "        elif x.startswith('SPE'):\n",
    "            items = x.split('\\r')\n",
    "            fixTimes = items[2].split('-')\n",
    "            del items[2]\n",
    "            fixTimes = [fix_times(i) for i in fixTimes]\n",
    "            items = {'id':items[0], 'hours':items[1], 'start':fixTimes[0], 'finish':fixTimes[1], 'rest':False}\n",
    "            if x.startswith('SPEX'):\n",
    "                items['rest'] = True\n",
    "        elif x.startswith('EDO'):\n",
    "            items = {'id': 'EDO', 'hours':None, 'start':None, 'finish': None, 'rest':False}\n",
    "        elif x.lower().startswith('av'):\n",
    "            start, finish = x.split('\\r')[-1].split('-')\n",
    "            job = {'id':'AV', 'hours':'8:00', 'start':fix_times(start), 'finish':fix_times(finish), 'rest':False}\n",
    "            return job\n",
    "        else:\n",
    "            print([x])\n",
    "            return x\n",
    "        return items\n",
    "    except(IndexError):\n",
    "        print('INDEX ERROR PASSING FOLLOWING:  ' + x)\n",
    "        print('col ' + str(fix_cell.helper//len(tabular_roster)))\n",
    "        print('row ' + str(fix_cell.helper%len(tabular_roster)))\n",
    "        return x\n",
    "fix_cell.helper = 0"
   ]
  },
  {
   "cell_type": "code",
   "execution_count": 5,
   "metadata": {},
   "outputs": [],
   "source": [
    "tabular_roster = tabular_roster.applymap(fix_cell)"
   ]
  },
  {
   "cell_type": "code",
   "execution_count": 6,
   "metadata": {},
   "outputs": [],
   "source": [
    "#tabular_roster.index.name = 'rost_line'\n",
    "#tabular_roster.rename_axis('day', axis=1)"
   ]
  },
  {
   "cell_type": "code",
   "execution_count": 7,
   "metadata": {},
   "outputs": [],
   "source": [
    "df = pd.DataFrame()\n",
    "for i in tabular_roster.iterrows():\n",
    "        for ii, dic in enumerate(i[1]):\n",
    "            dic['rosDay'] = ii + 1\n",
    "            dic['rosLine'] = int(i[0])\n",
    "            temp_df = pd.DataFrame(dic, index=[0])\n",
    "            df = df.append(temp_df)"
   ]
  },
  {
   "cell_type": "code",
   "execution_count": 8,
   "metadata": {
    "scrolled": true
   },
   "outputs": [
    {
     "data": {
      "text/plain": [
       "86"
      ]
     },
     "execution_count": 8,
     "metadata": {},
     "output_type": "execute_result"
    }
   ],
   "source": [
    "a = df.set_index(['rosLine','rosDay'])\n",
    "a.index.get_loc((4,3))"
   ]
  },
  {
   "cell_type": "code",
   "execution_count": 9,
   "metadata": {
    "scrolled": true
   },
   "outputs": [
    {
     "data": {
      "text/html": [
       "<div>\n",
       "<style scoped>\n",
       "    .dataframe tbody tr th:only-of-type {\n",
       "        vertical-align: middle;\n",
       "    }\n",
       "\n",
       "    .dataframe tbody tr th {\n",
       "        vertical-align: top;\n",
       "    }\n",
       "\n",
       "    .dataframe thead th {\n",
       "        text-align: right;\n",
       "    }\n",
       "</style>\n",
       "<table border=\"1\" class=\"dataframe\">\n",
       "  <thead>\n",
       "    <tr style=\"text-align: right;\">\n",
       "      <th></th>\n",
       "      <th></th>\n",
       "      <th>id</th>\n",
       "      <th>hours</th>\n",
       "      <th>start</th>\n",
       "      <th>finish</th>\n",
       "      <th>rest</th>\n",
       "    </tr>\n",
       "    <tr>\n",
       "      <th>rosLine</th>\n",
       "      <th>rosDay</th>\n",
       "      <th></th>\n",
       "      <th></th>\n",
       "      <th></th>\n",
       "      <th></th>\n",
       "      <th></th>\n",
       "    </tr>\n",
       "  </thead>\n",
       "  <tbody>\n",
       "    <tr>\n",
       "      <th rowspan=\"5\" valign=\"top\">1</th>\n",
       "      <th>1</th>\n",
       "      <td>OFF</td>\n",
       "      <td>None</td>\n",
       "      <td>None</td>\n",
       "      <td>None</td>\n",
       "      <td>False</td>\n",
       "    </tr>\n",
       "    <tr>\n",
       "      <th>2</th>\n",
       "      <td>OFF</td>\n",
       "      <td>None</td>\n",
       "      <td>None</td>\n",
       "      <td>None</td>\n",
       "      <td>False</td>\n",
       "    </tr>\n",
       "    <tr>\n",
       "      <th>3</th>\n",
       "      <td>SPER109</td>\n",
       "      <td>5:50</td>\n",
       "      <td>06:59:00</td>\n",
       "      <td>12:49:00</td>\n",
       "      <td>False</td>\n",
       "    </tr>\n",
       "    <tr>\n",
       "      <th>4</th>\n",
       "      <td>SPEX112</td>\n",
       "      <td>6:04</td>\n",
       "      <td>06:00:00</td>\n",
       "      <td>12:04:00</td>\n",
       "      <td>True</td>\n",
       "    </tr>\n",
       "    <tr>\n",
       "      <th>5</th>\n",
       "      <td>SPE130</td>\n",
       "      <td>6:46</td>\n",
       "      <td>04:59:00</td>\n",
       "      <td>11:45:00</td>\n",
       "      <td>False</td>\n",
       "    </tr>\n",
       "    <tr>\n",
       "      <th>...</th>\n",
       "      <th>...</th>\n",
       "      <td>...</td>\n",
       "      <td>...</td>\n",
       "      <td>...</td>\n",
       "      <td>...</td>\n",
       "      <td>...</td>\n",
       "    </tr>\n",
       "    <tr>\n",
       "      <th rowspan=\"5\" valign=\"top\">83</th>\n",
       "      <th>24</th>\n",
       "      <td>AV</td>\n",
       "      <td>8:00</td>\n",
       "      <td>11:00:00</td>\n",
       "      <td>19:00:00</td>\n",
       "      <td>False</td>\n",
       "    </tr>\n",
       "    <tr>\n",
       "      <th>25</th>\n",
       "      <td>AV</td>\n",
       "      <td>8:00</td>\n",
       "      <td>11:00:00</td>\n",
       "      <td>19:00:00</td>\n",
       "      <td>False</td>\n",
       "    </tr>\n",
       "    <tr>\n",
       "      <th>26</th>\n",
       "      <td>AV</td>\n",
       "      <td>8:00</td>\n",
       "      <td>11:00:00</td>\n",
       "      <td>19:00:00</td>\n",
       "      <td>False</td>\n",
       "    </tr>\n",
       "    <tr>\n",
       "      <th>27</th>\n",
       "      <td>AV</td>\n",
       "      <td>8:00</td>\n",
       "      <td>11:00:00</td>\n",
       "      <td>19:00:00</td>\n",
       "      <td>False</td>\n",
       "    </tr>\n",
       "    <tr>\n",
       "      <th>28</th>\n",
       "      <td>OFF</td>\n",
       "      <td>None</td>\n",
       "      <td>None</td>\n",
       "      <td>None</td>\n",
       "      <td>False</td>\n",
       "    </tr>\n",
       "  </tbody>\n",
       "</table>\n",
       "<p>2324 rows × 5 columns</p>\n",
       "</div>"
      ],
      "text/plain": [
       "                     id hours     start    finish   rest\n",
       "rosLine rosDay                                          \n",
       "1       1           OFF  None      None      None  False\n",
       "        2           OFF  None      None      None  False\n",
       "        3       SPER109  5:50  06:59:00  12:49:00  False\n",
       "        4       SPEX112  6:04  06:00:00  12:04:00   True\n",
       "        5        SPE130  6:46  04:59:00  11:45:00  False\n",
       "...                 ...   ...       ...       ...    ...\n",
       "83      24           AV  8:00  11:00:00  19:00:00  False\n",
       "        25           AV  8:00  11:00:00  19:00:00  False\n",
       "        26           AV  8:00  11:00:00  19:00:00  False\n",
       "        27           AV  8:00  11:00:00  19:00:00  False\n",
       "        28          OFF  None      None      None  False\n",
       "\n",
       "[2324 rows x 5 columns]"
      ]
     },
     "execution_count": 9,
     "metadata": {},
     "output_type": "execute_result"
    }
   ],
   "source": [
    "a"
   ]
  },
  {
   "cell_type": "code",
   "execution_count": null,
   "metadata": {},
   "outputs": [],
   "source": []
  },
  {
   "cell_type": "code",
   "execution_count": 1,
   "metadata": {},
   "outputs": [],
   "source": [
    "import sqlalchemy\n",
    "from sqlalchemy import create_engine"
   ]
  },
  {
   "cell_type": "code",
   "execution_count": 2,
   "metadata": {},
   "outputs": [],
   "source": [
    "engine = create_engine('sqlite:///:memory:', echo=True)"
   ]
  },
  {
   "cell_type": "code",
   "execution_count": 3,
   "metadata": {},
   "outputs": [],
   "source": [
    "from sqlalchemy.ext.declarative import declarative_base\n",
    "Base = declarative_base()"
   ]
  },
  {
   "cell_type": "code",
   "execution_count": 4,
   "metadata": {},
   "outputs": [],
   "source": [
    "from sqlalchemy import Column, Integer, String\n",
    "class User(Base):\n",
    "    __tablename__ = 'USERS'\n",
    "    id = Column(Integer, primary_key=True)\n",
    "    name = Column(String)\n",
    "    fullname = Column(String)\n",
    "    nickname = Column(String)\n",
    "    def __repr__(self):\n",
    "        return \"<User(name='%s', fullname='%s', nickname='%s')>\" % (self.name, self.fullname, self.nickname)"
   ]
  },
  {
   "cell_type": "code",
   "execution_count": 5,
   "metadata": {},
   "outputs": [
    {
     "data": {
      "text/plain": [
       "Table('USERS', MetaData(bind=None), Column('id', Integer(), table=<USERS>, primary_key=True, nullable=False), Column('name', String(), table=<USERS>), Column('fullname', String(), table=<USERS>), Column('nickname', String(), table=<USERS>), schema=None)"
      ]
     },
     "execution_count": 5,
     "metadata": {},
     "output_type": "execute_result"
    }
   ],
   "source": [
    "User.__table__ \n"
   ]
  },
  {
   "cell_type": "code",
   "execution_count": 6,
   "metadata": {},
   "outputs": [
    {
     "name": "stdout",
     "output_type": "stream",
     "text": [
      "2021-01-20 12:56:07,195 INFO sqlalchemy.engine.base.Engine SELECT CAST('test plain returns' AS VARCHAR(60)) AS anon_1\n",
      "2021-01-20 12:56:07,197 INFO sqlalchemy.engine.base.Engine ()\n",
      "2021-01-20 12:56:07,198 INFO sqlalchemy.engine.base.Engine SELECT CAST('test unicode returns' AS VARCHAR(60)) AS anon_1\n",
      "2021-01-20 12:56:07,199 INFO sqlalchemy.engine.base.Engine ()\n",
      "2021-01-20 12:56:07,200 INFO sqlalchemy.engine.base.Engine PRAGMA main.table_info(\"USERS\")\n",
      "2021-01-20 12:56:07,201 INFO sqlalchemy.engine.base.Engine ()\n",
      "2021-01-20 12:56:07,202 INFO sqlalchemy.engine.base.Engine PRAGMA temp.table_info(\"USERS\")\n",
      "2021-01-20 12:56:07,203 INFO sqlalchemy.engine.base.Engine ()\n",
      "2021-01-20 12:56:07,204 INFO sqlalchemy.engine.base.Engine \n",
      "CREATE TABLE \"USERS\" (\n",
      "\tid INTEGER NOT NULL, \n",
      "\tname VARCHAR, \n",
      "\tfullname VARCHAR, \n",
      "\tnickname VARCHAR, \n",
      "\tPRIMARY KEY (id)\n",
      ")\n",
      "\n",
      "\n",
      "2021-01-20 12:56:07,204 INFO sqlalchemy.engine.base.Engine ()\n",
      "2021-01-20 12:56:07,205 INFO sqlalchemy.engine.base.Engine COMMIT\n"
     ]
    }
   ],
   "source": [
    "Base.metadata.create_all(engine)"
   ]
  },
  {
   "cell_type": "code",
   "execution_count": 7,
   "metadata": {},
   "outputs": [],
   "source": [
    "ed_user = User(name='ed', fullname='Ed Jones', nickname='edsnickname')"
   ]
  },
  {
   "cell_type": "code",
   "execution_count": 8,
   "metadata": {},
   "outputs": [],
   "source": [
    "ed_user.id"
   ]
  },
  {
   "cell_type": "code",
   "execution_count": 9,
   "metadata": {},
   "outputs": [],
   "source": [
    "from sqlalchemy.orm import sessionmaker\n",
    "Session = sessionmaker(bind=engine)"
   ]
  },
  {
   "cell_type": "code",
   "execution_count": 10,
   "metadata": {},
   "outputs": [],
   "source": [
    "session = Session()"
   ]
  },
  {
   "cell_type": "code",
   "execution_count": 11,
   "metadata": {},
   "outputs": [],
   "source": [
    "session.add(ed_user)"
   ]
  },
  {
   "cell_type": "code",
   "execution_count": 12,
   "metadata": {},
   "outputs": [
    {
     "name": "stdout",
     "output_type": "stream",
     "text": [
      "2021-01-20 12:56:08,371 INFO sqlalchemy.engine.base.Engine BEGIN (implicit)\n",
      "2021-01-20 12:56:08,372 INFO sqlalchemy.engine.base.Engine INSERT INTO \"USERS\" (name, fullname, nickname) VALUES (?, ?, ?)\n",
      "2021-01-20 12:56:08,373 INFO sqlalchemy.engine.base.Engine ('ed', 'Ed Jones', 'edsnickname')\n",
      "2021-01-20 12:56:08,375 INFO sqlalchemy.engine.base.Engine SELECT \"USERS\".id AS \"USERS_id\", \"USERS\".name AS \"USERS_name\", \"USERS\".fullname AS \"USERS_fullname\", \"USERS\".nickname AS \"USERS_nickname\" \n",
      "FROM \"USERS\" \n",
      "WHERE \"USERS\".name = ?\n",
      " LIMIT ? OFFSET ?\n",
      "2021-01-20 12:56:08,376 INFO sqlalchemy.engine.base.Engine ('ed', 1, 0)\n"
     ]
    }
   ],
   "source": [
    "our_user = session.query(User).filter_by(name='ed').first()"
   ]
  },
  {
   "cell_type": "code",
   "execution_count": 13,
   "metadata": {},
   "outputs": [
    {
     "data": {
      "text/plain": [
       "<User(name='ed', fullname='Ed Jones', nickname='edsnickname')>"
      ]
     },
     "execution_count": 13,
     "metadata": {},
     "output_type": "execute_result"
    }
   ],
   "source": [
    "our_user"
   ]
  },
  {
   "cell_type": "code",
   "execution_count": 14,
   "metadata": {},
   "outputs": [],
   "source": [
    "session.add_all([\n",
    "     User(name='wendy', fullname='Wendy Williams', nickname='windy'),\n",
    "     User(name='mary', fullname='Mary Contrary', nickname='mary'),\n",
    "     User(name='fred', fullname='Fred Flintstone', nickname='freddy')])"
   ]
  },
  {
   "cell_type": "code",
   "execution_count": 15,
   "metadata": {},
   "outputs": [],
   "source": [
    "ed_user.nickname = 'eddie'"
   ]
  },
  {
   "cell_type": "code",
   "execution_count": 16,
   "metadata": {},
   "outputs": [
    {
     "data": {
      "text/plain": [
       "IdentitySet([<User(name='ed', fullname='Ed Jones', nickname='eddie')>])"
      ]
     },
     "execution_count": 16,
     "metadata": {},
     "output_type": "execute_result"
    }
   ],
   "source": [
    "session.dirty"
   ]
  },
  {
   "cell_type": "code",
   "execution_count": 17,
   "metadata": {},
   "outputs": [
    {
     "data": {
      "text/plain": [
       "IdentitySet([<User(name='wendy', fullname='Wendy Williams', nickname='windy')>, <User(name='mary', fullname='Mary Contrary', nickname='mary')>, <User(name='fred', fullname='Fred Flintstone', nickname='freddy')>])"
      ]
     },
     "execution_count": 17,
     "metadata": {},
     "output_type": "execute_result"
    }
   ],
   "source": [
    "session.new"
   ]
  },
  {
   "cell_type": "code",
   "execution_count": 18,
   "metadata": {},
   "outputs": [
    {
     "name": "stdout",
     "output_type": "stream",
     "text": [
      "2021-01-20 12:56:09,700 INFO sqlalchemy.engine.base.Engine UPDATE \"USERS\" SET nickname=? WHERE \"USERS\".id = ?\n",
      "2021-01-20 12:56:09,700 INFO sqlalchemy.engine.base.Engine ('eddie', 1)\n",
      "2021-01-20 12:56:09,701 INFO sqlalchemy.engine.base.Engine INSERT INTO \"USERS\" (name, fullname, nickname) VALUES (?, ?, ?)\n",
      "2021-01-20 12:56:09,702 INFO sqlalchemy.engine.base.Engine ('wendy', 'Wendy Williams', 'windy')\n",
      "2021-01-20 12:56:09,703 INFO sqlalchemy.engine.base.Engine INSERT INTO \"USERS\" (name, fullname, nickname) VALUES (?, ?, ?)\n",
      "2021-01-20 12:56:09,703 INFO sqlalchemy.engine.base.Engine ('mary', 'Mary Contrary', 'mary')\n",
      "2021-01-20 12:56:09,704 INFO sqlalchemy.engine.base.Engine INSERT INTO \"USERS\" (name, fullname, nickname) VALUES (?, ?, ?)\n",
      "2021-01-20 12:56:09,705 INFO sqlalchemy.engine.base.Engine ('fred', 'Fred Flintstone', 'freddy')\n",
      "2021-01-20 12:56:09,705 INFO sqlalchemy.engine.base.Engine COMMIT\n"
     ]
    }
   ],
   "source": [
    "session.commit()"
   ]
  },
  {
   "cell_type": "code",
   "execution_count": 19,
   "metadata": {},
   "outputs": [],
   "source": [
    "ed_user.name = 'Edwardo'"
   ]
  },
  {
   "cell_type": "code",
   "execution_count": 20,
   "metadata": {},
   "outputs": [],
   "source": [
    "fake_user = User(name='fakeuser', fullname='Invalid', nickname='12345')\n",
    "session.add(fake_user)"
   ]
  },
  {
   "cell_type": "code",
   "execution_count": 21,
   "metadata": {},
   "outputs": [
    {
     "name": "stdout",
     "output_type": "stream",
     "text": [
      "2021-01-20 12:56:10,925 INFO sqlalchemy.engine.base.Engine BEGIN (implicit)\n",
      "2021-01-20 12:56:10,926 INFO sqlalchemy.engine.base.Engine SELECT \"USERS\".id AS \"USERS_id\", \"USERS\".fullname AS \"USERS_fullname\", \"USERS\".nickname AS \"USERS_nickname\" \n",
      "FROM \"USERS\" \n",
      "WHERE \"USERS\".id = ?\n",
      "2021-01-20 12:56:10,927 INFO sqlalchemy.engine.base.Engine (1,)\n",
      "2021-01-20 12:56:10,928 INFO sqlalchemy.engine.base.Engine UPDATE \"USERS\" SET name=? WHERE \"USERS\".id = ?\n",
      "2021-01-20 12:56:10,929 INFO sqlalchemy.engine.base.Engine ('Edwardo', 1)\n",
      "2021-01-20 12:56:10,930 INFO sqlalchemy.engine.base.Engine INSERT INTO \"USERS\" (name, fullname, nickname) VALUES (?, ?, ?)\n",
      "2021-01-20 12:56:10,930 INFO sqlalchemy.engine.base.Engine ('fakeuser', 'Invalid', '12345')\n",
      "2021-01-20 12:56:10,931 INFO sqlalchemy.engine.base.Engine SELECT \"USERS\".id AS \"USERS_id\", \"USERS\".name AS \"USERS_name\", \"USERS\".fullname AS \"USERS_fullname\", \"USERS\".nickname AS \"USERS_nickname\" \n",
      "FROM \"USERS\" \n",
      "WHERE \"USERS\".name IN (?, ?)\n",
      "2021-01-20 12:56:10,932 INFO sqlalchemy.engine.base.Engine ('Edwardo', 'fakeuser')\n"
     ]
    },
    {
     "data": {
      "text/plain": [
       "[<User(name='Edwardo', fullname='Ed Jones', nickname='eddie')>,\n",
       " <User(name='fakeuser', fullname='Invalid', nickname='12345')>]"
      ]
     },
     "execution_count": 21,
     "metadata": {},
     "output_type": "execute_result"
    }
   ],
   "source": [
    "session.query(User).filter(User.name.in_(['Edwardo', 'fakeuser'])).all()"
   ]
  },
  {
   "cell_type": "code",
   "execution_count": 22,
   "metadata": {},
   "outputs": [
    {
     "name": "stdout",
     "output_type": "stream",
     "text": [
      "2021-01-20 12:56:11,304 INFO sqlalchemy.engine.base.Engine ROLLBACK\n"
     ]
    }
   ],
   "source": [
    "session.rollback()"
   ]
  },
  {
   "cell_type": "code",
   "execution_count": 23,
   "metadata": {},
   "outputs": [
    {
     "name": "stdout",
     "output_type": "stream",
     "text": [
      "2021-01-20 12:56:11,692 INFO sqlalchemy.engine.base.Engine BEGIN (implicit)\n",
      "2021-01-20 12:56:11,693 INFO sqlalchemy.engine.base.Engine SELECT \"USERS\".id AS \"USERS_id\", \"USERS\".name AS \"USERS_name\", \"USERS\".fullname AS \"USERS_fullname\", \"USERS\".nickname AS \"USERS_nickname\" \n",
      "FROM \"USERS\" \n",
      "WHERE \"USERS\".name IN (?, ?)\n",
      "2021-01-20 12:56:11,694 INFO sqlalchemy.engine.base.Engine ('Edwardo', 'fakeuser')\n"
     ]
    },
    {
     "data": {
      "text/plain": [
       "[]"
      ]
     },
     "execution_count": 23,
     "metadata": {},
     "output_type": "execute_result"
    }
   ],
   "source": [
    "session.query(User).filter(User.name.in_(['Edwardo', 'fakeuser'])).all()"
   ]
  },
  {
   "cell_type": "code",
   "execution_count": 26,
   "metadata": {},
   "outputs": [
    {
     "name": "stdout",
     "output_type": "stream",
     "text": [
      "2021-01-20 12:59:22,557 INFO sqlalchemy.engine.base.Engine SELECT \"USERS\".id AS \"USERS_id\", \"USERS\".name AS \"USERS_name\", \"USERS\".fullname AS \"USERS_fullname\", \"USERS\".nickname AS \"USERS_nickname\" \n",
      "FROM \"USERS\" ORDER BY \"USERS\".id\n",
      "2021-01-20 12:59:22,558 INFO sqlalchemy.engine.base.Engine ()\n",
      "ed Ed Jones\n",
      "wendy Wendy Williams\n",
      "mary Mary Contrary\n",
      "fred Fred Flintstone\n"
     ]
    }
   ],
   "source": [
    "for instance in session.query(User).order_by(User.id):\n",
    "    print(instance.name, instance.fullname)"
   ]
  },
  {
   "cell_type": "code",
   "execution_count": 32,
   "metadata": {},
   "outputs": [
    {
     "name": "stdout",
     "output_type": "stream",
     "text": [
      "2021-01-20 13:00:27,865 INFO sqlalchemy.engine.base.Engine SELECT \"USERS\".fullname AS name_label \n",
      "FROM \"USERS\"\n",
      "2021-01-20 13:00:27,866 INFO sqlalchemy.engine.base.Engine ()\n",
      "Ed Jones\n",
      "Wendy Williams\n",
      "Mary Contrary\n",
      "Fred Flintstone\n"
     ]
    }
   ],
   "source": [
    "for row in session.query(User.fullname.label('name_label')).all():\n",
    "    print(row.name_label)"
   ]
  },
  {
   "cell_type": "code",
   "execution_count": null,
   "metadata": {},
   "outputs": [],
   "source": []
  }
 ],
 "metadata": {
  "kernelspec": {
   "display_name": "ROSTERING",
   "language": "python",
   "name": "rostering"
  },
  "language_info": {
   "codemirror_mode": {
    "name": "ipython",
    "version": 3
   },
   "file_extension": ".py",
   "mimetype": "text/x-python",
   "name": "python",
   "nbconvert_exporter": "python",
   "pygments_lexer": "ipython3",
   "version": "3.9.1"
  }
 },
 "nbformat": 4,
 "nbformat_minor": 4
}
