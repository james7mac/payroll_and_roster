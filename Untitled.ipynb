{
 "cells": [
  {
   "cell_type": "code",
   "execution_count": 2,
   "metadata": {},
   "outputs": [
    {
     "name": "stderr",
     "output_type": "stream",
     "text": [
      " 2021-08-22 20:51:54,292 - DEBUG- Start of program\n"
     ]
    },
    {
     "name": "stdout",
     "output_type": "stream",
     "text": [
      "2020-01-01   New Year's Day\n",
      "2020-01-26   Australia Day\n",
      "2020-01-27   Australia Day (Observed)\n",
      "2020-03-09   Labour Day\n",
      "2020-04-10   Good Friday\n",
      "2020-04-11   Easter Saturday\n",
      "2020-04-12   Easter Sunday\n",
      "2020-04-13   Easter Monday\n",
      "2020-04-25   Anzac Day\n",
      "2020-06-08   Queen's Birthday\n",
      "2020-10-23   Grand Final Day\n",
      "2020-11-03   Melbourne Cup\n",
      "2020-12-25   Christmas Day\n",
      "2020-12-26   Boxing Day\n",
      "2020-12-28   Boxing Day (Observed)\n",
      "D:\\Anaconda\\envs\\payroll_and_roster\\python.exe\n"
     ]
    }
   ],
   "source": [
    "import pandas as pd\n",
    "from datetime import datetime\n",
    "from sqlalchemy import create_engine\n",
    "import roster, os, json, sys\n",
    "print(sys.executable)"
   ]
  },
  {
   "cell_type": "code",
   "execution_count": 66,
   "metadata": {},
   "outputs": [],
   "source": [
    "working_dir = r'A:\\Python\\payroll_and_roster'\n",
    "con = create_engine(\"sqlite:///swaps.db\", echo=False)"
   ]
  },
  {
   "cell_type": "code",
   "execution_count": 3,
   "metadata": {},
   "outputs": [],
   "source": [
    "roster = roster.Roster()"
   ]
  },
  {
   "cell_type": "code",
   "execution_count": 20,
   "metadata": {},
   "outputs": [
    {
     "name": "stdout",
     "output_type": "stream",
     "text": [
      "         rosDay  Unnamed: 0       id    hours     start    finish   rest\n",
      "rosLine                                                                 \n",
      "1             1           0      OFF      NaN       NaT       NaT  False\n",
      "1             2           0      OFF      NaN       NaT       NaT  False\n",
      "2             1           0      OFF      NaN       NaT       NaT  False\n",
      "2             2           0  SPER110     5:47  17:28:00  23:15:00  False\n",
      "3             1           0  SPER103     5:44  18:02:00  23:46:00  False\n",
      "3             2           0  SPEX114     6:52  12:45:00  19:37:00   True\n",
      "4             1           0  SPEX104     6:06  06:00:00  12:06:00   True\n",
      "4             2           0      OFF      NaN       NaT       NaT  False\n",
      "5             1           0      OFF      NaN       NaT       NaT  False\n",
      "5             2           0   SPE142     7:14  06:19:00  13:33:00  False\n",
      "6             1           0      OFF      NaN       NaT       NaT  False\n",
      "6             2           0   SPE138     7:54  05:51:00  13:45:00  False\n",
      "7             1           0      OFF      NaN       NaT       NaT  False\n",
      "7             2           0   SPE151     7:13  11:56:00  19:09:00  False\n",
      "8             1           0   SPE102     6:32  06:19:00  12:51:00  False\n",
      "8             2           0   SPE128     8:23  04:52:00  13:15:00  False\n",
      "9             1           0      OFF      NaN       NaT       NaT  False\n",
      "9             2           0   SPE126     6:00  04:14:00  10:14:00  False\n",
      "10            1           0      OFF      NaN       NaT       NaT  False\n",
      "10            2           0   SPE164     7:27  15:02:00  22:29:00  False\n",
      "11            1           0      OFF      NaN       NaT       NaT  False\n",
      "11            2           0   SPE162     7:31  14:22:00  21:53:00  False\n",
      "12            1           0   SPE107     6:58  07:20:00  14:18:00  False\n",
      "12            2           0      OFF      NaN       NaT       NaT  False\n",
      "13            1           0   SPE104     9:09  06:44:00  15:53:00  False\n",
      "13            2           0   SPE140     6:00  05:57:00  11:57:00  False\n",
      "14            1           0      OFF      NaN       NaT       NaT  False\n",
      "14            2           0      OFF      NaN       NaT       NaT  False\n",
      "15            1           0   SPE119     8:58  14:32:00  23:30:00  False\n",
      "15            2           0   SPE166     7:59  15:21:00  23:20:00  False\n",
      "16            1           0   SPE100     8:02  06:09:00  14:11:00  False\n",
      "16            2           0   SPE144     8:00  06:26:00  14:26:00  False\n",
      "17            1           0   SPE115     6:58  12:30:00  19:28:00  False\n",
      "17            2           0   SPE154     8:18  12:39:00  20:57:00  False\n",
      "18            1           0      OFF      NaN       NaT       NaT  False\n",
      "18            2           0   SPE127     6:06  04:39:00  10:45:00  False\n",
      "19            1           0      OFF      NaN       NaT       NaT  False\n",
      "19            2           0      OFF      NaN       NaT       NaT  False\n",
      "20            1           0   SPE117     6:00  13:30:00  19:30:00  False\n",
      "20            2           0   SPE160     8:51  13:30:00  22:21:00  False\n",
      "21            1           0      OFF      NaN       NaT       NaT  False\n",
      "21            2           0   SPE143     9:08  06:21:00  15:29:00  False\n",
      "22            1           0      OFF      NaN       NaT       NaT  False\n",
      "22            2           0   SPE134     6:47  05:31:00  12:18:00  False\n",
      "23            1           0      OFF      NaN       NaT       NaT  False\n",
      "23            2           0      OFF      NaN       NaT       NaT  False\n",
      "24            1           0      OFF      NaN       NaT       NaT  False\n",
      "24            2           0      EDO      NaN       NaT       NaT  False\n",
      "25            1           0      OFF      NaN       NaT       NaT  False\n",
      "25            2           0   SPE141     8:06  06:07:00  14:13:00  False\n",
      "26            1           0      OFF      NaN       NaT       NaT  False\n",
      "26            2           0   SPE150     7:29  11:55:00  19:24:00  False\n",
      "27            1           0      OFF      NaN       NaT       NaT  False\n",
      "27            2           0      OFF      NaN       NaT       NaT  False\n",
      "28            1           0      OFF      NaN       NaT       NaT  False\n",
      "28            2           0      OFF      NaN       NaT       NaT  False\n",
      "29            1           0      OFF      NaN       NaT       NaT  False\n",
      "29            2           0  SPER108     6:11  06:54:00  13:05:00  False\n",
      "30            1           0  SPER100     5:55  06:54:00  12:49:00  False\n",
      "30            2           0  SPEX111     6:04  06:00:00  12:04:00   True\n",
      "31            1           0  SPEX105     6:06  06:00:00  12:06:00   True\n",
      "31            2           0   SPE145     9:32  06:31:00  16:03:00  False\n",
      "32            1           0      OFF      NaN       NaT       NaT  False\n",
      "32            2           0   SPE173     8:45  16:12:00  00:57:00  False\n",
      "33            1           0      OFF      NaN       NaT       NaT  False\n",
      "33            2           0      OFF      NaN       NaT       NaT  False\n",
      "34            1           0      OFF      NaN       NaT       NaT  False\n",
      "34            2           0      EDO      NaN       NaT       NaT  False\n",
      "35            1           0      OFF      NaN       NaT       NaT  False\n",
      "35            2           0   SPE129     6:00  04:52:00  10:52:00  False\n",
      "36            1           0   SPE121     6:55  14:50:00  21:45:00  False\n",
      "36            2           0   SPE177     6:06  16:23:00  22:29:00  False\n",
      "37            1           0      OFF      NaN       NaT       NaT  False\n",
      "37            2           0      EDO      NaN       NaT       NaT  False\n",
      "38            1           0   SPE110     7:18  08:35:00  15:53:00  False\n",
      "38            2           0   SPE147     6:36  06:42:00  13:18:00  False\n",
      "39            1           0   SPE113     6:00  10:32:00  16:32:00  False\n",
      "39            2           0   SPE148     9:23  11:24:00  20:47:00  False\n",
      "40            1           0   SPE125     6:00  16:21:00  22:21:00  False\n",
      "40            2           0   SPE176     6:00  16:21:00  22:21:00  False\n",
      "41            1           0   SPE122     8:19  14:53:00  23:12:00  False\n",
      "41            2           0   SPE163     7:02  14:50:00  21:52:00  False\n",
      "42            1           0   SPE116     8:00  12:32:00  20:32:00  False\n",
      "42            2           0   SPE153     8:55  12:32:00  21:27:00  False\n",
      "43            1           0   SPE112     8:58  09:50:00  18:48:00  False\n",
      "43            2           0   SPE158     9:09  13:16:00  22:25:00  False\n",
      "44            1           0      OFF      NaN       NaT       NaT  False\n",
      "44            2           0   SPE146     9:38  06:37:00  16:15:00  False\n",
      "45            1           0      OFF      NaN       NaT       NaT  False\n",
      "45            2           0   SPE181     8:22  17:08:00  01:30:00  False\n",
      "46            1           0      OFF      NaN       NaT       NaT  False\n",
      "46            2           0   SPE174     7:48  16:15:00  00:03:00  False\n",
      "47            1           0      OFF      NaN       NaT       NaT  False\n",
      "47            2           0   SPE179     7:29  16:30:00  23:59:00  False\n",
      "48            1           0      OFF      NaN       NaT       NaT  False\n",
      "48            2           0      OFF      NaN       NaT       NaT  False\n",
      "49            1           0      OFF      NaN       NaT       NaT  False\n",
      "49            2           0   SPE135     6:00  05:31:00  11:31:00  False\n",
      "50            1           0   SPE106  9 : 4 8  07:16:00  17:04:00  False\n",
      "50            2           0      OFF      NaN       NaT       NaT  False\n",
      "51            1           0   SPE123     7:37  15:56:00  23:33:00  False\n",
      "51            2           0   SPE155     9:49  12:50:00  22:39:00  False\n",
      "52            1           0   SPE109     6:26  08:32:00  14:58:00  False\n",
      "52            2           0   SPE132     7:43  05:14:00  12:57:00  False\n",
      "53            1           0       AV     8:00  11:00:00  19:00:00  False\n",
      "53            2           0   SPE178     8:53  16:27:00  01:20:00  False\n",
      "54            1           0   SPE124     8:30  16:02:00  00:32:00  False\n",
      "54            2           0   SPE175     9:16  16:21:00  01:37:00  False\n",
      "55            1           0  SPER101     5:50  06:59:00  12:49:00  False\n",
      "55            2           0  SPEX112     6:04  06:00:00  12:04:00   True\n",
      "56            1           0  SPER102     5:54  17:16:00  23:10:00  False\n",
      "56            2           0  SPEX113     5:20  11:56:00  17:16:00   True\n",
      "57            1           0  SPEX107     5:42  16:06:00  21:48:00   True\n",
      "57            2           0   SPE167     6:17  15:26:00  21:43:00  False\n",
      "58            1           0  SPEX106     5:20  11:56:00  17:16:00   True\n",
      "58            2           0   SPE152     7:19  12:22:00  19:41:00  False\n",
      "59            1           0   SPE105     8:57  06:44:00  15:41:00  False\n",
      "59            2           0   SPE130     6:46  04:59:00  11:45:00  False\n",
      "60            1           0   SPE101     9:50  06:14:00  16:04:00  False\n",
      "60            2           0      OFF      NaN       NaT       NaT  False\n",
      "61            1           0      OFF      NaN       NaT       NaT  False\n",
      "61            2           0   SPE170     7:58  15:39:00  23:37:00  False\n",
      "62            1           0   SPE120     7:39  14:42:00  22:21:00  False\n",
      "62            2           0   SPE180     7:30  16:47:00  00:17:00  False\n",
      "63            1           0      OFF      NaN       NaT       NaT  False\n",
      "63            2           0       AV     8:00  16:00:00  00:00:00  False\n",
      "64            1           0      OFF      NaN       NaT       NaT  False\n",
      "64            2           0      OFF      NaN       NaT       NaT  False\n",
      "65            1           0      OFF      NaN       NaT       NaT  False\n",
      "65            2           0   SPE171     6:34  15:43:00  22:17:00  False\n",
      "66            1           0   SPE114     7:56  11:16:00  19:12:00  False\n",
      "66            2           0   SPE149     7:50  11:42:00  19:32:00  False\n",
      "67            1           0      OFF      NaN       NaT       NaT  False\n",
      "67            2           0   SPE168     8:25  15:28:00  23:53:00  False\n",
      "68            1           0       AV     8:00  15:00:00  23:00:00  False\n",
      "68            2           0       AV     8:00  15:00:00  23:00:00  False\n",
      "69            1           0   SPE111     9:06  08:45:00  17:51:00  False\n",
      "69            2           0      OFF      NaN       NaT       NaT  False\n",
      "70            1           0   SPE108     6:42  07:40:00  14:22:00  False\n",
      "70            2           0   SPE131     7:48  05:09:00  12:57:00  False\n",
      "71            1           0      OFF      NaN       NaT       NaT  False\n",
      "71            2           0   SPE136     7:21  05:44:00  13:05:00  False\n",
      "72            1           0      OFF      NaN       NaT       NaT  False\n",
      "72            2           0       AV     8:00  13:00:00  21:00:00  False\n",
      "73            1           0      OFF      NaN       NaT       NaT  False\n",
      "73            2           0       AV     8:00  05:00:00  13:00:00  False\n",
      "74            1           0      OFF      NaN       NaT       NaT  False\n",
      "74            2           0       AV     8:00  06:00:00  14:00:00  False\n",
      "75            1           0       AV     8:00  06:00:00  14:00:00  False\n",
      "75            2           0       AV     8:00  04:30:00  12:30:00  False\n",
      "76            1           0      OFF      NaN       NaT       NaT  False\n",
      "76            2           0       AV     8:00  15:00:00  23:00:00  False\n"
     ]
    }
   ],
   "source": [
    "with pd.option_context('display.max_rows', None, 'display.max_columns', None):  # more options can be specified also\n",
    "    df =roster.df.reset_index('rosDay')\n",
    "    print(df[df.rosDay<3])"
   ]
  },
  {
   "cell_type": "code",
   "execution_count": 14,
   "metadata": {},
   "outputs": [
    {
     "ename": "NameError",
     "evalue": "name 'working_dir' is not defined",
     "output_type": "error",
     "traceback": [
      "\u001b[1;31m---------------------------------------------------------------------------\u001b[0m",
      "\u001b[1;31mNameError\u001b[0m                                 Traceback (most recent call last)",
      "\u001b[1;32m<ipython-input-14-61a3971811c7>\u001b[0m in \u001b[0;36m<module>\u001b[1;34m\u001b[0m\n\u001b[1;32m----> 1\u001b[1;33m \u001b[1;32mwith\u001b[0m \u001b[0mopen\u001b[0m\u001b[1;33m(\u001b[0m\u001b[0mworking_dir\u001b[0m \u001b[1;33m+\u001b[0m \u001b[1;34m\"\\\\swaps.db\"\u001b[0m\u001b[1;33m)\u001b[0m \u001b[1;32mas\u001b[0m \u001b[0mfile\u001b[0m\u001b[1;33m:\u001b[0m\u001b[1;33m\u001b[0m\u001b[1;33m\u001b[0m\u001b[0m\n\u001b[0m\u001b[0;32m      2\u001b[0m     \u001b[0mswaps\u001b[0m \u001b[1;33m=\u001b[0m \u001b[0mgui\u001b[0m\u001b[1;33m.\u001b[0m\u001b[0mSwaps\u001b[0m\u001b[1;33m(\u001b[0m\u001b[1;33m)\u001b[0m\u001b[1;33m\u001b[0m\u001b[1;33m\u001b[0m\u001b[0m\n\u001b[0;32m      3\u001b[0m     \u001b[0mswaps\u001b[0m\u001b[1;33m.\u001b[0m\u001b[0mswaps\u001b[0m \u001b[1;33m=\u001b[0m \u001b[0mpd\u001b[0m\u001b[1;33m.\u001b[0m\u001b[0mread_sql\u001b[0m\u001b[1;33m(\u001b[0m\u001b[1;34m'Swaps'\u001b[0m\u001b[1;33m,\u001b[0m \u001b[0mcon\u001b[0m\u001b[1;33m)\u001b[0m\u001b[1;33m\u001b[0m\u001b[1;33m\u001b[0m\u001b[0m\n",
      "\u001b[1;31mNameError\u001b[0m: name 'working_dir' is not defined"
     ]
    }
   ],
   "source": [
    "with open(working_dir + \"\\\\swaps.db\") as file:\n",
    "    swaps = gui.Swaps()\n",
    "    swaps.swaps = pd.read_sql('Swaps', con)"
   ]
  },
  {
   "cell_type": "code",
   "execution_count": null,
   "metadata": {},
   "outputs": [],
   "source": [
    "df = pd.read_csv(working_dir+\"//rosterDataFrame.csv\", parse_dates=['start','finish'])"
   ]
  },
  {
   "cell_type": "code",
   "execution_count": 1,
   "metadata": {},
   "outputs": [
    {
     "name": "stdout",
     "output_type": "stream",
     "text": [
      "D:\\Anaconda\\envs\\payroll_and_roster\\python.exe\n"
     ]
    }
   ],
   "source": [
    "import sys\n",
    "print(sys.executable)"
   ]
  },
  {
   "cell_type": "code",
   "execution_count": 109,
   "metadata": {
    "scrolled": true
   },
   "outputs": [
    {
     "name": "stdout",
     "output_type": "stream",
     "text": [
      "0\n",
      "1\n",
      "2\n",
      "3\n",
      "4\n",
      "5\n",
      "6\n",
      "7\n",
      "8\n",
      "9\n",
      "10\n",
      "11\n",
      "12\n",
      "13\n",
      "14\n",
      "15\n",
      "16\n",
      "17\n",
      "18\n",
      "19\n",
      "20\n",
      "21\n",
      "22\n",
      "23\n",
      "24\n",
      "25\n",
      "26\n",
      "27\n",
      "28\n",
      "0\n",
      "0\n",
      "0\n",
      "0\n",
      "0\n",
      "0\n"
     ]
    },
    {
     "data": {
      "text/plain": [
       "[None,\n",
       " None,\n",
       " None,\n",
       " None,\n",
       " None,\n",
       " None,\n",
       " None,\n",
       " None,\n",
       " None,\n",
       " None,\n",
       " None,\n",
       " None,\n",
       " None,\n",
       " None,\n",
       " None,\n",
       " None,\n",
       " None,\n",
       " None,\n",
       " None,\n",
       " None,\n",
       " None,\n",
       " None,\n",
       " None,\n",
       " None,\n",
       " None,\n",
       " None,\n",
       " None,\n",
       " None,\n",
       " None,\n",
       " None,\n",
       " None,\n",
       " None,\n",
       " None,\n",
       " None,\n",
       " None]"
      ]
     },
     "execution_count": 109,
     "metadata": {},
     "output_type": "execute_result"
    }
   ],
   "source": [
    "cal = gui.calend(datetime(2021,2,1))\n",
    "roster_ = roster.Roster()\n",
    "shifts = gui.get_shifts(cal, roster_, 1)\n",
    "x = [True if i > 0 else False for i in cal.itermonthdays(cal.date.year,cal.date.month)]\n",
    "shifts = shifts[:len(x)]\n",
    "#shifts['start'] = pd.to_datetime(shifts['start']).dt.time\n",
    "#shifts['start'].iloc[0]\n",
    "shifts\n",
    "[print(i)for i in cal.itermonthdays(cal.date.year,cal.date.month)]"
   ]
  },
  {
   "cell_type": "code",
   "execution_count": 107,
   "metadata": {},
   "outputs": [
    {
     "ename": "AttributeError",
     "evalue": "module 'roster' has no attribute 'df'",
     "output_type": "error",
     "traceback": [
      "\u001b[1;31m---------------------------------------------------------------------------\u001b[0m",
      "\u001b[1;31mAttributeError\u001b[0m                            Traceback (most recent call last)",
      "\u001b[1;32m<ipython-input-107-8eee60fb3a80>\u001b[0m in \u001b[0;36m<module>\u001b[1;34m\u001b[0m\n\u001b[0;32m      5\u001b[0m \u001b[1;33m\u001b[0m\u001b[0m\n\u001b[0;32m      6\u001b[0m     \u001b[1;31m#service = get_creds()\u001b[0m\u001b[1;33m\u001b[0m\u001b[1;33m\u001b[0m\u001b[1;33m\u001b[0m\u001b[0m\n\u001b[1;32m----> 7\u001b[1;33m     \u001b[0mshifts\u001b[0m\u001b[1;33m=\u001b[0m\u001b[0mgui\u001b[0m\u001b[1;33m.\u001b[0m\u001b[0mget_shifts\u001b[0m\u001b[1;33m(\u001b[0m\u001b[0mcal\u001b[0m\u001b[1;33m,\u001b[0m \u001b[0mroster\u001b[0m\u001b[1;33m,\u001b[0m \u001b[0mline\u001b[0m\u001b[1;33m)\u001b[0m\u001b[1;33m\u001b[0m\u001b[1;33m\u001b[0m\u001b[0m\n\u001b[0m\u001b[0;32m      8\u001b[0m     \u001b[0mc\u001b[0m \u001b[1;33m=\u001b[0m \u001b[1;33m[\u001b[0m\u001b[0mi\u001b[0m \u001b[1;32mfor\u001b[0m \u001b[0mi\u001b[0m \u001b[1;32min\u001b[0m \u001b[0mcal\u001b[0m\u001b[1;33m.\u001b[0m\u001b[0mitermonthdates\u001b[0m\u001b[1;33m(\u001b[0m\u001b[0mcal\u001b[0m\u001b[1;33m.\u001b[0m\u001b[0mdate\u001b[0m\u001b[1;33m.\u001b[0m\u001b[0myear\u001b[0m\u001b[1;33m,\u001b[0m \u001b[0mcal\u001b[0m\u001b[1;33m.\u001b[0m\u001b[0mdate\u001b[0m\u001b[1;33m.\u001b[0m\u001b[0mmonth\u001b[0m\u001b[1;33m)\u001b[0m\u001b[1;33m]\u001b[0m\u001b[1;33m\u001b[0m\u001b[1;33m\u001b[0m\u001b[0m\n\u001b[0;32m      9\u001b[0m     \u001b[0mii\u001b[0m \u001b[1;33m=\u001b[0m \u001b[1;36m0\u001b[0m\u001b[1;33m\u001b[0m\u001b[1;33m\u001b[0m\u001b[0m\n",
      "\u001b[1;32mA:\\Python\\payroll_and_roster\\gui.py\u001b[0m in \u001b[0;36mget_shifts\u001b[1;34m(cal, roster, line)\u001b[0m\n\u001b[0;32m    196\u001b[0m             \u001b[0mwindow\u001b[0m\u001b[1;33m[\u001b[0m\u001b[0menc_btn\u001b[0m\u001b[1;33m(\u001b[0m\u001b[0mi\u001b[0m\u001b[1;33m)\u001b[0m\u001b[1;33m]\u001b[0m\u001b[1;33m.\u001b[0m\u001b[0mupdate\u001b[0m\u001b[1;33m(\u001b[0m\u001b[0mvisible\u001b[0m\u001b[1;33m=\u001b[0m\u001b[1;32mFalse\u001b[0m\u001b[1;33m)\u001b[0m   \u001b[1;31m# button_color=('white','white'))\u001b[0m\u001b[1;33m\u001b[0m\u001b[1;33m\u001b[0m\u001b[0m\n\u001b[0;32m    197\u001b[0m         \u001b[1;32melse\u001b[0m\u001b[1;33m:\u001b[0m\u001b[1;33m\u001b[0m\u001b[1;33m\u001b[0m\u001b[0m\n\u001b[1;32m--> 198\u001b[1;33m             \u001b[0mwindow\u001b[0m\u001b[1;33m[\u001b[0m\u001b[0menc_btn\u001b[0m\u001b[1;33m(\u001b[0m\u001b[0mi\u001b[0m\u001b[1;33m)\u001b[0m\u001b[1;33m]\u001b[0m\u001b[1;33m.\u001b[0m\u001b[0mupdate\u001b[0m\u001b[1;33m(\u001b[0m\u001b[0mvisible\u001b[0m\u001b[1;33m=\u001b[0m\u001b[1;32mTrue\u001b[0m\u001b[1;33m)\u001b[0m\u001b[1;33m\u001b[0m\u001b[1;33m\u001b[0m\u001b[0m\n\u001b[0m\u001b[0;32m    199\u001b[0m \u001b[1;33m\u001b[0m\u001b[0m\n\u001b[0;32m    200\u001b[0m \u001b[1;32mdef\u001b[0m \u001b[0mget_shifts\u001b[0m\u001b[1;33m(\u001b[0m\u001b[0mcal\u001b[0m\u001b[1;33m,\u001b[0m \u001b[0mroster\u001b[0m\u001b[1;33m,\u001b[0m \u001b[0mline\u001b[0m\u001b[1;33m)\u001b[0m\u001b[1;33m:\u001b[0m\u001b[1;33m\u001b[0m\u001b[1;33m\u001b[0m\u001b[0m\n",
      "\u001b[1;31mAttributeError\u001b[0m: module 'roster' has no attribute 'df'"
     ]
    }
   ],
   "source": [
    "if os.path.exists(working_dir+'\\\\guiSettings.json'):\n",
    "    with open(working_dir + \"\\\\guiSettings.json\") as file:\n",
    "        settings = json.load(file)\n",
    "    line = settings['initialLine']\n",
    "\n",
    "    #service = get_creds()\n",
    "    shifts=gui.get_shifts(cal, roster, line)\n",
    "    c = [i for i in cal.itermonthdates(cal.date.year, cal.date.month)]\n",
    "    ii = 0\n",
    "    for i, row in shifts.iterrows():\n",
    "        print('-----------')\n",
    "        print(ii)\n",
    "        row['date'] = c[ii]\n",
    "        print(roster.format_job(row))\n",
    "        ii+=1"
   ]
  },
  {
   "cell_type": "code",
   "execution_count": 3,
   "metadata": {},
   "outputs": [
    {
     "name": "stdout",
     "output_type": "stream",
     "text": [
      "langa is\n",
      "dum\n"
     ]
    }
   ],
   "source": [
    "def dum_print(arg1, arg2):\n",
    "    print(arg1)\n",
    "    print(arg2)\n",
    "\n",
    "two_args = ['langa is',  'dum']\n",
    "\n",
    "print_two_args(two_args)\n",
    "#this doesnt work coz dum_print is expecting two arguements\n",
    "\n",
    "\n",
    "\n",
    "print_two_args(*two_args)\n",
    "#this does work because the * unpacks the two_args list before passing it to dum_print"
   ]
  },
  {
   "cell_type": "code",
   "execution_count": null,
   "metadata": {},
   "outputs": [],
   "source": []
  },
  {
   "cell_type": "code",
   "execution_count": 31,
   "metadata": {},
   "outputs": [],
   "source": [
    "nw = pd.DataFrame({'swap_with':['TEST'], 'to_line': [6], 'dates': [datetime(2021,12,30)]})"
   ]
  },
  {
   "cell_type": "code",
   "execution_count": 32,
   "metadata": {},
   "outputs": [
    {
     "data": {
      "text/html": [
       "<div>\n",
       "<style scoped>\n",
       "    .dataframe tbody tr th:only-of-type {\n",
       "        vertical-align: middle;\n",
       "    }\n",
       "\n",
       "    .dataframe tbody tr th {\n",
       "        vertical-align: top;\n",
       "    }\n",
       "\n",
       "    .dataframe thead th {\n",
       "        text-align: right;\n",
       "    }\n",
       "</style>\n",
       "<table border=\"1\" class=\"dataframe\">\n",
       "  <thead>\n",
       "    <tr style=\"text-align: right;\">\n",
       "      <th></th>\n",
       "      <th>swap_with</th>\n",
       "      <th>to_line</th>\n",
       "      <th>dates</th>\n",
       "    </tr>\n",
       "  </thead>\n",
       "  <tbody>\n",
       "    <tr>\n",
       "      <th>0</th>\n",
       "      <td>name</td>\n",
       "      <td>0</td>\n",
       "      <td>2021-02-25</td>\n",
       "    </tr>\n",
       "    <tr>\n",
       "      <th>1</th>\n",
       "      <td>name</td>\n",
       "      <td>0</td>\n",
       "      <td>2021-02-24</td>\n",
       "    </tr>\n",
       "    <tr>\n",
       "      <th>2</th>\n",
       "      <td>name</td>\n",
       "      <td>0</td>\n",
       "      <td>2021-02-23</td>\n",
       "    </tr>\n",
       "    <tr>\n",
       "      <th>3</th>\n",
       "      <td>name</td>\n",
       "      <td>0</td>\n",
       "      <td>2021-02-16</td>\n",
       "    </tr>\n",
       "    <tr>\n",
       "      <th>4</th>\n",
       "      <td>name</td>\n",
       "      <td>0</td>\n",
       "      <td>2021-02-17</td>\n",
       "    </tr>\n",
       "    <tr>\n",
       "      <th>5</th>\n",
       "      <td>name</td>\n",
       "      <td>0</td>\n",
       "      <td>2021-02-18</td>\n",
       "    </tr>\n",
       "    <tr>\n",
       "      <th>6</th>\n",
       "      <td>name</td>\n",
       "      <td>0</td>\n",
       "      <td>2021-02-11</td>\n",
       "    </tr>\n",
       "    <tr>\n",
       "      <th>7</th>\n",
       "      <td>name</td>\n",
       "      <td>0</td>\n",
       "      <td>2021-02-10</td>\n",
       "    </tr>\n",
       "    <tr>\n",
       "      <th>8</th>\n",
       "      <td>name</td>\n",
       "      <td>0</td>\n",
       "      <td>2021-02-09</td>\n",
       "    </tr>\n",
       "    <tr>\n",
       "      <th>9</th>\n",
       "      <td>TEST</td>\n",
       "      <td>6</td>\n",
       "      <td>2021-06-30</td>\n",
       "    </tr>\n",
       "    <tr>\n",
       "      <th>10</th>\n",
       "      <td>TEST</td>\n",
       "      <td>6</td>\n",
       "      <td>2021-06-30</td>\n",
       "    </tr>\n",
       "    <tr>\n",
       "      <th>11</th>\n",
       "      <td>TEST</td>\n",
       "      <td>6</td>\n",
       "      <td>2021-12-30</td>\n",
       "    </tr>\n",
       "  </tbody>\n",
       "</table>\n",
       "</div>"
      ],
      "text/plain": [
       "   swap_with to_line      dates\n",
       "0       name       0 2021-02-25\n",
       "1       name       0 2021-02-24\n",
       "2       name       0 2021-02-23\n",
       "3       name       0 2021-02-16\n",
       "4       name       0 2021-02-17\n",
       "5       name       0 2021-02-18\n",
       "6       name       0 2021-02-11\n",
       "7       name       0 2021-02-10\n",
       "8       name       0 2021-02-09\n",
       "9       TEST       6 2021-06-30\n",
       "10      TEST       6 2021-06-30\n",
       "11      TEST       6 2021-12-30"
      ]
     },
     "execution_count": 32,
     "metadata": {},
     "output_type": "execute_result"
    }
   ],
   "source": [
    "swaps.swaps = swaps.swaps.append(nw, ignore_index=True)\n",
    "swaps.swaps"
   ]
  },
  {
   "cell_type": "code",
   "execution_count": 57,
   "metadata": {},
   "outputs": [
    {
     "data": {
      "text/html": [
       "<div>\n",
       "<style scoped>\n",
       "    .dataframe tbody tr th:only-of-type {\n",
       "        vertical-align: middle;\n",
       "    }\n",
       "\n",
       "    .dataframe tbody tr th {\n",
       "        vertical-align: top;\n",
       "    }\n",
       "\n",
       "    .dataframe thead th {\n",
       "        text-align: right;\n",
       "    }\n",
       "</style>\n",
       "<table border=\"1\" class=\"dataframe\">\n",
       "  <thead>\n",
       "    <tr style=\"text-align: right;\">\n",
       "      <th></th>\n",
       "      <th>to_line</th>\n",
       "      <th>dates</th>\n",
       "    </tr>\n",
       "  </thead>\n",
       "  <tbody>\n",
       "    <tr>\n",
       "      <th>0</th>\n",
       "      <td>0</td>\n",
       "      <td>2021-02-25</td>\n",
       "    </tr>\n",
       "    <tr>\n",
       "      <th>1</th>\n",
       "      <td>0</td>\n",
       "      <td>2021-02-24</td>\n",
       "    </tr>\n",
       "    <tr>\n",
       "      <th>2</th>\n",
       "      <td>0</td>\n",
       "      <td>2021-02-23</td>\n",
       "    </tr>\n",
       "    <tr>\n",
       "      <th>3</th>\n",
       "      <td>0</td>\n",
       "      <td>2021-02-16</td>\n",
       "    </tr>\n",
       "    <tr>\n",
       "      <th>4</th>\n",
       "      <td>0</td>\n",
       "      <td>2021-02-17</td>\n",
       "    </tr>\n",
       "    <tr>\n",
       "      <th>5</th>\n",
       "      <td>0</td>\n",
       "      <td>2021-02-18</td>\n",
       "    </tr>\n",
       "    <tr>\n",
       "      <th>6</th>\n",
       "      <td>0</td>\n",
       "      <td>2021-02-11</td>\n",
       "    </tr>\n",
       "    <tr>\n",
       "      <th>7</th>\n",
       "      <td>0</td>\n",
       "      <td>2021-02-10</td>\n",
       "    </tr>\n",
       "    <tr>\n",
       "      <th>8</th>\n",
       "      <td>0</td>\n",
       "      <td>2021-02-09</td>\n",
       "    </tr>\n",
       "    <tr>\n",
       "      <th>9</th>\n",
       "      <td>6</td>\n",
       "      <td>2021-06-30</td>\n",
       "    </tr>\n",
       "    <tr>\n",
       "      <th>10</th>\n",
       "      <td>6</td>\n",
       "      <td>2021-06-30</td>\n",
       "    </tr>\n",
       "    <tr>\n",
       "      <th>11</th>\n",
       "      <td>6</td>\n",
       "      <td>2021-12-30</td>\n",
       "    </tr>\n",
       "  </tbody>\n",
       "</table>\n",
       "</div>"
      ],
      "text/plain": [
       "   to_line      dates\n",
       "0        0 2021-02-25\n",
       "1        0 2021-02-24\n",
       "2        0 2021-02-23\n",
       "3        0 2021-02-16\n",
       "4        0 2021-02-17\n",
       "5        0 2021-02-18\n",
       "6        0 2021-02-11\n",
       "7        0 2021-02-10\n",
       "8        0 2021-02-09\n",
       "9        6 2021-06-30\n",
       "10       6 2021-06-30\n",
       "11       6 2021-12-30"
      ]
     },
     "execution_count": 57,
     "metadata": {},
     "output_type": "execute_result"
    }
   ],
   "source": [
    "s = swaps.swaps\n",
    "s[['to_line','dates']]"
   ]
  },
  {
   "cell_type": "code",
   "execution_count": 53,
   "metadata": {},
   "outputs": [
    {
     "data": {
      "text/html": [
       "<div>\n",
       "<style scoped>\n",
       "    .dataframe tbody tr th:only-of-type {\n",
       "        vertical-align: middle;\n",
       "    }\n",
       "\n",
       "    .dataframe tbody tr th {\n",
       "        vertical-align: top;\n",
       "    }\n",
       "\n",
       "    .dataframe thead th {\n",
       "        text-align: right;\n",
       "    }\n",
       "</style>\n",
       "<table border=\"1\" class=\"dataframe\">\n",
       "  <thead>\n",
       "    <tr style=\"text-align: right;\">\n",
       "      <th></th>\n",
       "      <th>swap_with</th>\n",
       "      <th>to_line</th>\n",
       "      <th>dates</th>\n",
       "    </tr>\n",
       "  </thead>\n",
       "  <tbody>\n",
       "    <tr>\n",
       "      <th>11</th>\n",
       "      <td>TEST</td>\n",
       "      <td>6</td>\n",
       "      <td>2021-12-30</td>\n",
       "    </tr>\n",
       "  </tbody>\n",
       "</table>\n",
       "</div>"
      ],
      "text/plain": [
       "   swap_with to_line      dates\n",
       "11      TEST       6 2021-12-30"
      ]
     },
     "execution_count": 53,
     "metadata": {},
     "output_type": "execute_result"
    }
   ],
   "source": [
    "d = datetime(2021,12,30).date()\n",
    "s[s.dates == pd.Timestamp(d)]"
   ]
  },
  {
   "cell_type": "code",
   "execution_count": null,
   "metadata": {},
   "outputs": [],
   "source": []
  },
  {
   "cell_type": "code",
   "execution_count": null,
   "metadata": {},
   "outputs": [],
   "source": []
  },
  {
   "cell_type": "code",
   "execution_count": null,
   "metadata": {},
   "outputs": [],
   "source": []
  },
  {
   "cell_type": "code",
   "execution_count": null,
   "metadata": {},
   "outputs": [],
   "source": []
  },
  {
   "cell_type": "code",
   "execution_count": 2,
   "metadata": {},
   "outputs": [
    {
     "name": "stderr",
     "output_type": "stream",
     "text": [
      " 2021-01-12 15:32:39,632 - DEBUG- Start of program\n"
     ]
    },
    {
     "name": "stdout",
     "output_type": "stream",
     "text": [
      "2020-01-01   New Year's Day\n",
      "2020-01-26   Australia Day\n",
      "2020-01-27   Australia Day (Observed)\n",
      "2020-03-09   Labour Day\n",
      "2020-04-10   Good Friday\n",
      "2020-04-11   Easter Saturday\n",
      "2020-04-12   Easter Sunday\n",
      "2020-04-13   Easter Monday\n",
      "2020-04-25   Anzac Day\n",
      "2020-06-08   Queen's Birthday\n",
      "2020-10-23   Grand Final Day\n",
      "2020-11-03   Melbourne Cup\n",
      "2020-12-25   Christmas Day\n",
      "2020-12-26   Boxing Day\n",
      "2020-12-28   Boxing Day (Observed)\n",
      "A:\\Python\\payroll_and_roster\\\\MasterRoster.pdf\n"
     ]
    }
   ],
   "source": [
    "import tabula, roster, os\n",
    "if os.environ['COMPUTERNAME'] == 'JMLAPTOP':\n",
    "    pdfPath =   r'C:\\Users\\james\\PycharmProjects\\payroll_and_roster\\MasterRoster.pdf'\n",
    "elif os.environ['COMPUTERNAME'] == 'JAMESPC':\n",
    "    pdfPath = r'A:\\Python\\payroll_and_roster\\\\MasterRoster.pdf'\n",
    "print(pdfPath)"
   ]
  },
  {
   "cell_type": "code",
   "execution_count": 3,
   "metadata": {
    "scrolled": true
   },
   "outputs": [],
   "source": [
    "pdfFullPages = 8 + 1 \n",
    "lastPcoords = [148.6, 107.0 ,1166.4, 251.5]\n",
    "tabular_roster = pd.DataFrame()\n",
    "for i in range(1,pdfFullPages+1):\n",
    "    roster_pdf = open(pdfPath,'rb')\n",
    "    #coords of the area in the roster found using GIMP:\n",
    "    if i == pdfFullPages+1:\n",
    "        x = tabula.read_pdf(roster_pdf, pages=int(i), lattice=1, area=lastPcoords)\n",
    "        print('AA')\n",
    "    else:\n",
    "        x = tabula.read_pdf(roster_pdf, pages=int(i), lattice=1, area=[100,149,589, 1167.9])\n",
    "    x.dropna(axis=0, thresh=30, inplace=True)\n",
    "    x.dropna(axis=1,how='all', inplace=True)\n",
    "    x.columns = [str(i) for i in range(1,15)] + ['h1'] + [str(i) for i in range(15,29)] + ['h2']\n",
    "    tabular_roster = tabular_roster.append(x)\n",
    "    \n",
    "tabular_roster.index = [str(i+1) for i in range(len(tabular_roster))]\n",
    "tabular_roster.drop(['h1', 'h2'], axis=1, inplace=True)"
   ]
  },
  {
   "cell_type": "code",
   "execution_count": 4,
   "metadata": {
    "scrolled": true
   },
   "outputs": [],
   "source": [
    "def fix_times(timeStr):\n",
    "    if timeStr == '2400':\n",
    "        timeStr='0000'\n",
    "    return datetime.strptime(timeStr, \"%H%M\").time()\n",
    "    \n",
    "def fix_cell(x):\n",
    "    fix_cell.helper +=1\n",
    "    try:\n",
    "        if x.startswith('OFF'):\n",
    "            items = {'id': 'OFF', 'hours':None, 'start':None, 'finish': None, 'rest':False}\n",
    "        elif x.startswith('SPE'):\n",
    "            items = x.split('\\r')\n",
    "            fixTimes = items[2].split('-')\n",
    "            del items[2]\n",
    "            fixTimes = [fix_times(i) for i in fixTimes]\n",
    "            items = {'id':items[0], 'hours':items[1], 'start':fixTimes[0], 'finish':fixTimes[1], 'rest':False}\n",
    "            if x.startswith('SPEX'):\n",
    "                items['rest'] = True\n",
    "        elif x.startswith('EDO'):\n",
    "            items = {'id': 'EDO', 'hours':None, 'start':None, 'finish': None, 'rest':False}\n",
    "        elif x.lower().startswith('av'):\n",
    "            start, finish = x.split('\\r')[-1].split('-')\n",
    "            job = {'id':'AV', 'hours':'8:00', 'start':fix_times(start), 'finish':fix_times(finish), 'rest':False}\n",
    "            return job\n",
    "        else:\n",
    "            print([x])\n",
    "            return x\n",
    "        return items\n",
    "    except(IndexError):\n",
    "        print('INDEX ERROR PASSING FOLLOWING:  ' + x)\n",
    "        print('col ' + str(fix_cell.helper//len(tabular_roster)))\n",
    "        print('row ' + str(fix_cell.helper%len(tabular_roster)))\n",
    "        return x\n",
    "fix_cell.helper = 0"
   ]
  },
  {
   "cell_type": "code",
   "execution_count": 5,
   "metadata": {},
   "outputs": [],
   "source": [
    "tabular_roster = tabular_roster.applymap(fix_cell)"
   ]
  },
  {
   "cell_type": "code",
   "execution_count": 6,
   "metadata": {},
   "outputs": [],
   "source": [
    "#tabular_roster.index.name = 'rost_line'\n",
    "#tabular_roster.rename_axis('day', axis=1)"
   ]
  },
  {
   "cell_type": "code",
   "execution_count": 7,
   "metadata": {},
   "outputs": [],
   "source": [
    "df = pd.DataFrame()\n",
    "for i in tabular_roster.iterrows():\n",
    "        for ii, dic in enumerate(i[1]):\n",
    "            dic['rosDay'] = ii + 1\n",
    "            dic['rosLine'] = int(i[0])\n",
    "            temp_df = pd.DataFrame(dic, index=[0])\n",
    "            df = df.append(temp_df)"
   ]
  },
  {
   "cell_type": "code",
   "execution_count": 8,
   "metadata": {
    "scrolled": true
   },
   "outputs": [
    {
     "data": {
      "text/plain": [
       "86"
      ]
     },
     "execution_count": 8,
     "metadata": {},
     "output_type": "execute_result"
    }
   ],
   "source": [
    "a = df.set_index(['rosLine','rosDay'])\n",
    "a.index.get_loc((4,3))"
   ]
  },
  {
   "cell_type": "code",
   "execution_count": 9,
   "metadata": {
    "scrolled": true
   },
   "outputs": [
    {
     "data": {
      "text/html": [
       "<div>\n",
       "<style scoped>\n",
       "    .dataframe tbody tr th:only-of-type {\n",
       "        vertical-align: middle;\n",
       "    }\n",
       "\n",
       "    .dataframe tbody tr th {\n",
       "        vertical-align: top;\n",
       "    }\n",
       "\n",
       "    .dataframe thead th {\n",
       "        text-align: right;\n",
       "    }\n",
       "</style>\n",
       "<table border=\"1\" class=\"dataframe\">\n",
       "  <thead>\n",
       "    <tr style=\"text-align: right;\">\n",
       "      <th></th>\n",
       "      <th></th>\n",
       "      <th>id</th>\n",
       "      <th>hours</th>\n",
       "      <th>start</th>\n",
       "      <th>finish</th>\n",
       "      <th>rest</th>\n",
       "    </tr>\n",
       "    <tr>\n",
       "      <th>rosLine</th>\n",
       "      <th>rosDay</th>\n",
       "      <th></th>\n",
       "      <th></th>\n",
       "      <th></th>\n",
       "      <th></th>\n",
       "      <th></th>\n",
       "    </tr>\n",
       "  </thead>\n",
       "  <tbody>\n",
       "    <tr>\n",
       "      <th rowspan=\"5\" valign=\"top\">1</th>\n",
       "      <th>1</th>\n",
       "      <td>OFF</td>\n",
       "      <td>None</td>\n",
       "      <td>None</td>\n",
       "      <td>None</td>\n",
       "      <td>False</td>\n",
       "    </tr>\n",
       "    <tr>\n",
       "      <th>2</th>\n",
       "      <td>OFF</td>\n",
       "      <td>None</td>\n",
       "      <td>None</td>\n",
       "      <td>None</td>\n",
       "      <td>False</td>\n",
       "    </tr>\n",
       "    <tr>\n",
       "      <th>3</th>\n",
       "      <td>SPER109</td>\n",
       "      <td>5:50</td>\n",
       "      <td>06:59:00</td>\n",
       "      <td>12:49:00</td>\n",
       "      <td>False</td>\n",
       "    </tr>\n",
       "    <tr>\n",
       "      <th>4</th>\n",
       "      <td>SPEX112</td>\n",
       "      <td>6:04</td>\n",
       "      <td>06:00:00</td>\n",
       "      <td>12:04:00</td>\n",
       "      <td>True</td>\n",
       "    </tr>\n",
       "    <tr>\n",
       "      <th>5</th>\n",
       "      <td>SPE130</td>\n",
       "      <td>6:46</td>\n",
       "      <td>04:59:00</td>\n",
       "      <td>11:45:00</td>\n",
       "      <td>False</td>\n",
       "    </tr>\n",
       "    <tr>\n",
       "      <th>...</th>\n",
       "      <th>...</th>\n",
       "      <td>...</td>\n",
       "      <td>...</td>\n",
       "      <td>...</td>\n",
       "      <td>...</td>\n",
       "      <td>...</td>\n",
       "    </tr>\n",
       "    <tr>\n",
       "      <th rowspan=\"5\" valign=\"top\">83</th>\n",
       "      <th>24</th>\n",
       "      <td>AV</td>\n",
       "      <td>8:00</td>\n",
       "      <td>11:00:00</td>\n",
       "      <td>19:00:00</td>\n",
       "      <td>False</td>\n",
       "    </tr>\n",
       "    <tr>\n",
       "      <th>25</th>\n",
       "      <td>AV</td>\n",
       "      <td>8:00</td>\n",
       "      <td>11:00:00</td>\n",
       "      <td>19:00:00</td>\n",
       "      <td>False</td>\n",
       "    </tr>\n",
       "    <tr>\n",
       "      <th>26</th>\n",
       "      <td>AV</td>\n",
       "      <td>8:00</td>\n",
       "      <td>11:00:00</td>\n",
       "      <td>19:00:00</td>\n",
       "      <td>False</td>\n",
       "    </tr>\n",
       "    <tr>\n",
       "      <th>27</th>\n",
       "      <td>AV</td>\n",
       "      <td>8:00</td>\n",
       "      <td>11:00:00</td>\n",
       "      <td>19:00:00</td>\n",
       "      <td>False</td>\n",
       "    </tr>\n",
       "    <tr>\n",
       "      <th>28</th>\n",
       "      <td>OFF</td>\n",
       "      <td>None</td>\n",
       "      <td>None</td>\n",
       "      <td>None</td>\n",
       "      <td>False</td>\n",
       "    </tr>\n",
       "  </tbody>\n",
       "</table>\n",
       "<p>2324 rows × 5 columns</p>\n",
       "</div>"
      ],
      "text/plain": [
       "                     id hours     start    finish   rest\n",
       "rosLine rosDay                                          \n",
       "1       1           OFF  None      None      None  False\n",
       "        2           OFF  None      None      None  False\n",
       "        3       SPER109  5:50  06:59:00  12:49:00  False\n",
       "        4       SPEX112  6:04  06:00:00  12:04:00   True\n",
       "        5        SPE130  6:46  04:59:00  11:45:00  False\n",
       "...                 ...   ...       ...       ...    ...\n",
       "83      24           AV  8:00  11:00:00  19:00:00  False\n",
       "        25           AV  8:00  11:00:00  19:00:00  False\n",
       "        26           AV  8:00  11:00:00  19:00:00  False\n",
       "        27           AV  8:00  11:00:00  19:00:00  False\n",
       "        28          OFF  None      None      None  False\n",
       "\n",
       "[2324 rows x 5 columns]"
      ]
     },
     "execution_count": 9,
     "metadata": {},
     "output_type": "execute_result"
    }
   ],
   "source": [
    "a"
   ]
  },
  {
   "cell_type": "code",
   "execution_count": null,
   "metadata": {},
   "outputs": [],
   "source": []
  },
  {
   "cell_type": "code",
   "execution_count": 1,
   "metadata": {},
   "outputs": [],
   "source": [
    "import sqlalchemy\n",
    "from sqlalchemy import create_engine"
   ]
  },
  {
   "cell_type": "code",
   "execution_count": 2,
   "metadata": {},
   "outputs": [],
   "source": [
    "engine = create_engine('sqlite:///:memory:', echo=True)"
   ]
  },
  {
   "cell_type": "code",
   "execution_count": 3,
   "metadata": {},
   "outputs": [],
   "source": [
    "from sqlalchemy.ext.declarative import declarative_base\n",
    "Base = declarative_base()"
   ]
  },
  {
   "cell_type": "code",
   "execution_count": 4,
   "metadata": {},
   "outputs": [],
   "source": [
    "from sqlalchemy import Column, Integer, String\n",
    "class User(Base):\n",
    "    __tablename__ = 'USERS'\n",
    "    id = Column(Integer, primary_key=True)\n",
    "    name = Column(String)\n",
    "    fullname = Column(String)\n",
    "    nickname = Column(String)\n",
    "    def __repr__(self):\n",
    "        return \"<User(name='%s', fullname='%s', nickname='%s')>\" % (self.name, self.fullname, self.nickname)"
   ]
  },
  {
   "cell_type": "code",
   "execution_count": 5,
   "metadata": {},
   "outputs": [
    {
     "data": {
      "text/plain": [
       "Table('USERS', MetaData(bind=None), Column('id', Integer(), table=<USERS>, primary_key=True, nullable=False), Column('name', String(), table=<USERS>), Column('fullname', String(), table=<USERS>), Column('nickname', String(), table=<USERS>), schema=None)"
      ]
     },
     "execution_count": 5,
     "metadata": {},
     "output_type": "execute_result"
    }
   ],
   "source": [
    "User.__table__ \n"
   ]
  },
  {
   "cell_type": "code",
   "execution_count": 6,
   "metadata": {},
   "outputs": [
    {
     "name": "stdout",
     "output_type": "stream",
     "text": [
      "2021-01-20 12:56:07,195 INFO sqlalchemy.engine.base.Engine SELECT CAST('test plain returns' AS VARCHAR(60)) AS anon_1\n",
      "2021-01-20 12:56:07,197 INFO sqlalchemy.engine.base.Engine ()\n",
      "2021-01-20 12:56:07,198 INFO sqlalchemy.engine.base.Engine SELECT CAST('test unicode returns' AS VARCHAR(60)) AS anon_1\n",
      "2021-01-20 12:56:07,199 INFO sqlalchemy.engine.base.Engine ()\n",
      "2021-01-20 12:56:07,200 INFO sqlalchemy.engine.base.Engine PRAGMA main.table_info(\"USERS\")\n",
      "2021-01-20 12:56:07,201 INFO sqlalchemy.engine.base.Engine ()\n",
      "2021-01-20 12:56:07,202 INFO sqlalchemy.engine.base.Engine PRAGMA temp.table_info(\"USERS\")\n",
      "2021-01-20 12:56:07,203 INFO sqlalchemy.engine.base.Engine ()\n",
      "2021-01-20 12:56:07,204 INFO sqlalchemy.engine.base.Engine \n",
      "CREATE TABLE \"USERS\" (\n",
      "\tid INTEGER NOT NULL, \n",
      "\tname VARCHAR, \n",
      "\tfullname VARCHAR, \n",
      "\tnickname VARCHAR, \n",
      "\tPRIMARY KEY (id)\n",
      ")\n",
      "\n",
      "\n",
      "2021-01-20 12:56:07,204 INFO sqlalchemy.engine.base.Engine ()\n",
      "2021-01-20 12:56:07,205 INFO sqlalchemy.engine.base.Engine COMMIT\n"
     ]
    }
   ],
   "source": [
    "Base.metadata.create_all(engine)"
   ]
  },
  {
   "cell_type": "code",
   "execution_count": 7,
   "metadata": {},
   "outputs": [],
   "source": [
    "ed_user = User(name='ed', fullname='Ed Jones', nickname='edsnickname')"
   ]
  },
  {
   "cell_type": "code",
   "execution_count": 8,
   "metadata": {},
   "outputs": [],
   "source": [
    "ed_user.id"
   ]
  },
  {
   "cell_type": "code",
   "execution_count": 9,
   "metadata": {},
   "outputs": [],
   "source": [
    "from sqlalchemy.orm import sessionmaker\n",
    "Session = sessionmaker(bind=engine)"
   ]
  },
  {
   "cell_type": "code",
   "execution_count": 10,
   "metadata": {},
   "outputs": [],
   "source": [
    "session = Session()"
   ]
  },
  {
   "cell_type": "code",
   "execution_count": 11,
   "metadata": {},
   "outputs": [],
   "source": [
    "session.add(ed_user)"
   ]
  },
  {
   "cell_type": "code",
   "execution_count": 12,
   "metadata": {},
   "outputs": [
    {
     "name": "stdout",
     "output_type": "stream",
     "text": [
      "2021-01-20 12:56:08,371 INFO sqlalchemy.engine.base.Engine BEGIN (implicit)\n",
      "2021-01-20 12:56:08,372 INFO sqlalchemy.engine.base.Engine INSERT INTO \"USERS\" (name, fullname, nickname) VALUES (?, ?, ?)\n",
      "2021-01-20 12:56:08,373 INFO sqlalchemy.engine.base.Engine ('ed', 'Ed Jones', 'edsnickname')\n",
      "2021-01-20 12:56:08,375 INFO sqlalchemy.engine.base.Engine SELECT \"USERS\".id AS \"USERS_id\", \"USERS\".name AS \"USERS_name\", \"USERS\".fullname AS \"USERS_fullname\", \"USERS\".nickname AS \"USERS_nickname\" \n",
      "FROM \"USERS\" \n",
      "WHERE \"USERS\".name = ?\n",
      " LIMIT ? OFFSET ?\n",
      "2021-01-20 12:56:08,376 INFO sqlalchemy.engine.base.Engine ('ed', 1, 0)\n"
     ]
    }
   ],
   "source": [
    "our_user = session.query(User).filter_by(name='ed').first()"
   ]
  },
  {
   "cell_type": "code",
   "execution_count": 13,
   "metadata": {},
   "outputs": [
    {
     "data": {
      "text/plain": [
       "<User(name='ed', fullname='Ed Jones', nickname='edsnickname')>"
      ]
     },
     "execution_count": 13,
     "metadata": {},
     "output_type": "execute_result"
    }
   ],
   "source": [
    "our_user"
   ]
  },
  {
   "cell_type": "code",
   "execution_count": 14,
   "metadata": {},
   "outputs": [],
   "source": [
    "session.add_all([\n",
    "     User(name='wendy', fullname='Wendy Williams', nickname='windy'),\n",
    "     User(name='mary', fullname='Mary Contrary', nickname='mary'),\n",
    "     User(name='fred', fullname='Fred Flintstone', nickname='freddy')])"
   ]
  },
  {
   "cell_type": "code",
   "execution_count": 15,
   "metadata": {},
   "outputs": [],
   "source": [
    "ed_user.nickname = 'eddie'"
   ]
  },
  {
   "cell_type": "code",
   "execution_count": 16,
   "metadata": {},
   "outputs": [
    {
     "data": {
      "text/plain": [
       "IdentitySet([<User(name='ed', fullname='Ed Jones', nickname='eddie')>])"
      ]
     },
     "execution_count": 16,
     "metadata": {},
     "output_type": "execute_result"
    }
   ],
   "source": [
    "session.dirty"
   ]
  },
  {
   "cell_type": "code",
   "execution_count": 17,
   "metadata": {},
   "outputs": [
    {
     "data": {
      "text/plain": [
       "IdentitySet([<User(name='wendy', fullname='Wendy Williams', nickname='windy')>, <User(name='mary', fullname='Mary Contrary', nickname='mary')>, <User(name='fred', fullname='Fred Flintstone', nickname='freddy')>])"
      ]
     },
     "execution_count": 17,
     "metadata": {},
     "output_type": "execute_result"
    }
   ],
   "source": [
    "session.new"
   ]
  },
  {
   "cell_type": "code",
   "execution_count": 18,
   "metadata": {},
   "outputs": [
    {
     "name": "stdout",
     "output_type": "stream",
     "text": [
      "2021-01-20 12:56:09,700 INFO sqlalchemy.engine.base.Engine UPDATE \"USERS\" SET nickname=? WHERE \"USERS\".id = ?\n",
      "2021-01-20 12:56:09,700 INFO sqlalchemy.engine.base.Engine ('eddie', 1)\n",
      "2021-01-20 12:56:09,701 INFO sqlalchemy.engine.base.Engine INSERT INTO \"USERS\" (name, fullname, nickname) VALUES (?, ?, ?)\n",
      "2021-01-20 12:56:09,702 INFO sqlalchemy.engine.base.Engine ('wendy', 'Wendy Williams', 'windy')\n",
      "2021-01-20 12:56:09,703 INFO sqlalchemy.engine.base.Engine INSERT INTO \"USERS\" (name, fullname, nickname) VALUES (?, ?, ?)\n",
      "2021-01-20 12:56:09,703 INFO sqlalchemy.engine.base.Engine ('mary', 'Mary Contrary', 'mary')\n",
      "2021-01-20 12:56:09,704 INFO sqlalchemy.engine.base.Engine INSERT INTO \"USERS\" (name, fullname, nickname) VALUES (?, ?, ?)\n",
      "2021-01-20 12:56:09,705 INFO sqlalchemy.engine.base.Engine ('fred', 'Fred Flintstone', 'freddy')\n",
      "2021-01-20 12:56:09,705 INFO sqlalchemy.engine.base.Engine COMMIT\n"
     ]
    }
   ],
   "source": [
    "session.commit()"
   ]
  },
  {
   "cell_type": "code",
   "execution_count": 19,
   "metadata": {},
   "outputs": [],
   "source": [
    "ed_user.name = 'Edwardo'"
   ]
  },
  {
   "cell_type": "code",
   "execution_count": 20,
   "metadata": {},
   "outputs": [],
   "source": [
    "fake_user = User(name='fakeuser', fullname='Invalid', nickname='12345')\n",
    "session.add(fake_user)"
   ]
  },
  {
   "cell_type": "code",
   "execution_count": 21,
   "metadata": {},
   "outputs": [
    {
     "name": "stdout",
     "output_type": "stream",
     "text": [
      "2021-01-20 12:56:10,925 INFO sqlalchemy.engine.base.Engine BEGIN (implicit)\n",
      "2021-01-20 12:56:10,926 INFO sqlalchemy.engine.base.Engine SELECT \"USERS\".id AS \"USERS_id\", \"USERS\".fullname AS \"USERS_fullname\", \"USERS\".nickname AS \"USERS_nickname\" \n",
      "FROM \"USERS\" \n",
      "WHERE \"USERS\".id = ?\n",
      "2021-01-20 12:56:10,927 INFO sqlalchemy.engine.base.Engine (1,)\n",
      "2021-01-20 12:56:10,928 INFO sqlalchemy.engine.base.Engine UPDATE \"USERS\" SET name=? WHERE \"USERS\".id = ?\n",
      "2021-01-20 12:56:10,929 INFO sqlalchemy.engine.base.Engine ('Edwardo', 1)\n",
      "2021-01-20 12:56:10,930 INFO sqlalchemy.engine.base.Engine INSERT INTO \"USERS\" (name, fullname, nickname) VALUES (?, ?, ?)\n",
      "2021-01-20 12:56:10,930 INFO sqlalchemy.engine.base.Engine ('fakeuser', 'Invalid', '12345')\n",
      "2021-01-20 12:56:10,931 INFO sqlalchemy.engine.base.Engine SELECT \"USERS\".id AS \"USERS_id\", \"USERS\".name AS \"USERS_name\", \"USERS\".fullname AS \"USERS_fullname\", \"USERS\".nickname AS \"USERS_nickname\" \n",
      "FROM \"USERS\" \n",
      "WHERE \"USERS\".name IN (?, ?)\n",
      "2021-01-20 12:56:10,932 INFO sqlalchemy.engine.base.Engine ('Edwardo', 'fakeuser')\n"
     ]
    },
    {
     "data": {
      "text/plain": [
       "[<User(name='Edwardo', fullname='Ed Jones', nickname='eddie')>,\n",
       " <User(name='fakeuser', fullname='Invalid', nickname='12345')>]"
      ]
     },
     "execution_count": 21,
     "metadata": {},
     "output_type": "execute_result"
    }
   ],
   "source": [
    "session.query(User).filter(User.name.in_(['Edwardo', 'fakeuser'])).all()"
   ]
  },
  {
   "cell_type": "code",
   "execution_count": 22,
   "metadata": {},
   "outputs": [
    {
     "name": "stdout",
     "output_type": "stream",
     "text": [
      "2021-01-20 12:56:11,304 INFO sqlalchemy.engine.base.Engine ROLLBACK\n"
     ]
    }
   ],
   "source": [
    "session.rollback()"
   ]
  },
  {
   "cell_type": "code",
   "execution_count": 23,
   "metadata": {},
   "outputs": [
    {
     "name": "stdout",
     "output_type": "stream",
     "text": [
      "2021-01-20 12:56:11,692 INFO sqlalchemy.engine.base.Engine BEGIN (implicit)\n",
      "2021-01-20 12:56:11,693 INFO sqlalchemy.engine.base.Engine SELECT \"USERS\".id AS \"USERS_id\", \"USERS\".name AS \"USERS_name\", \"USERS\".fullname AS \"USERS_fullname\", \"USERS\".nickname AS \"USERS_nickname\" \n",
      "FROM \"USERS\" \n",
      "WHERE \"USERS\".name IN (?, ?)\n",
      "2021-01-20 12:56:11,694 INFO sqlalchemy.engine.base.Engine ('Edwardo', 'fakeuser')\n"
     ]
    },
    {
     "data": {
      "text/plain": [
       "[]"
      ]
     },
     "execution_count": 23,
     "metadata": {},
     "output_type": "execute_result"
    }
   ],
   "source": [
    "session.query(User).filter(User.name.in_(['Edwardo', 'fakeuser'])).all()"
   ]
  },
  {
   "cell_type": "code",
   "execution_count": 26,
   "metadata": {},
   "outputs": [
    {
     "name": "stdout",
     "output_type": "stream",
     "text": [
      "2021-01-20 12:59:22,557 INFO sqlalchemy.engine.base.Engine SELECT \"USERS\".id AS \"USERS_id\", \"USERS\".name AS \"USERS_name\", \"USERS\".fullname AS \"USERS_fullname\", \"USERS\".nickname AS \"USERS_nickname\" \n",
      "FROM \"USERS\" ORDER BY \"USERS\".id\n",
      "2021-01-20 12:59:22,558 INFO sqlalchemy.engine.base.Engine ()\n",
      "ed Ed Jones\n",
      "wendy Wendy Williams\n",
      "mary Mary Contrary\n",
      "fred Fred Flintstone\n"
     ]
    }
   ],
   "source": [
    "for instance in session.query(User).order_by(User.id):\n",
    "    print(instance.name, instance.fullname)"
   ]
  },
  {
   "cell_type": "code",
   "execution_count": 32,
   "metadata": {},
   "outputs": [
    {
     "name": "stdout",
     "output_type": "stream",
     "text": [
      "2021-01-20 13:00:27,865 INFO sqlalchemy.engine.base.Engine SELECT \"USERS\".fullname AS name_label \n",
      "FROM \"USERS\"\n",
      "2021-01-20 13:00:27,866 INFO sqlalchemy.engine.base.Engine ()\n",
      "Ed Jones\n",
      "Wendy Williams\n",
      "Mary Contrary\n",
      "Fred Flintstone\n"
     ]
    }
   ],
   "source": [
    "for row in session.query(User.fullname.label('name_label')).all():\n",
    "    print(row.name_label)"
   ]
  },
  {
   "cell_type": "code",
   "execution_count": null,
   "metadata": {},
   "outputs": [],
   "source": []
  }
 ],
 "metadata": {
  "kernelspec": {
   "display_name": "Python 3",
   "language": "python",
   "name": "python3"
  },
  "language_info": {
   "codemirror_mode": {
    "name": "ipython",
    "version": 3
   },
   "file_extension": ".py",
   "mimetype": "text/x-python",
   "name": "python",
   "nbconvert_exporter": "python",
   "pygments_lexer": "ipython3",
   "version": "3.9.6"
  }
 },
 "nbformat": 4,
 "nbformat_minor": 4
}
