{
 "cells": [
  {
   "cell_type": "code",
   "execution_count": 249,
   "metadata": {},
   "outputs": [
    {
     "name": "stdout",
     "output_type": "stream",
     "text": [
      "D:\\Anaconda\\envs\\payroll_and_roster\\python.exe\n"
     ]
    }
   ],
   "source": [
    "import pandas as pd\n",
    "from datetime import datetime\n",
    "from sqlalchemy import create_engine\n",
    "import roster, os, json, sys\n",
    "print(sys.executable)"
   ]
  },
  {
   "cell_type": "code",
   "execution_count": 258,
   "metadata": {},
   "outputs": [],
   "source": [
    "\n",
    "con = create_engine(\"sqlite:///swaps.db\", echo=False)\n",
    "sheet_path = r'D:\\Python\\payroll_and_roster\\seymourRoster.xlsm'\n",
    "epoch = \"01/05/22\""
   ]
  },
  {
   "cell_type": "code",
   "execution_count": 328,
   "metadata": {},
   "outputs": [
    {
     "data": {
      "text/html": [
       "<div>\n",
       "<style scoped>\n",
       "    .dataframe tbody tr th:only-of-type {\n",
       "        vertical-align: middle;\n",
       "    }\n",
       "\n",
       "    .dataframe tbody tr th {\n",
       "        vertical-align: top;\n",
       "    }\n",
       "\n",
       "    .dataframe thead th {\n",
       "        text-align: right;\n",
       "    }\n",
       "</style>\n",
       "<table border=\"1\" class=\"dataframe\">\n",
       "  <thead>\n",
       "    <tr style=\"text-align: right;\">\n",
       "      <th></th>\n",
       "      <th></th>\n",
       "      <th></th>\n",
       "      <th>trains</th>\n",
       "      <th>start</th>\n",
       "      <th>finish</th>\n",
       "      <th>job</th>\n",
       "    </tr>\n",
       "    <tr>\n",
       "      <th>line</th>\n",
       "      <th>week</th>\n",
       "      <th>day</th>\n",
       "      <th></th>\n",
       "      <th></th>\n",
       "      <th></th>\n",
       "      <th></th>\n",
       "    </tr>\n",
       "  </thead>\n",
       "  <tbody>\n",
       "    <tr>\n",
       "      <th rowspan=\"5\" valign=\"top\">1</th>\n",
       "      <th rowspan=\"5\" valign=\"top\">1</th>\n",
       "      <th>1</th>\n",
       "      <td>Rostered Off</td>\n",
       "      <td></td>\n",
       "      <td>NaN</td>\n",
       "      <td></td>\n",
       "    </tr>\n",
       "    <tr>\n",
       "      <th>2</th>\n",
       "      <td>Rostered Off</td>\n",
       "      <td></td>\n",
       "      <td></td>\n",
       "      <td></td>\n",
       "    </tr>\n",
       "    <tr>\n",
       "      <th>3</th>\n",
       "      <td>EDO</td>\n",
       "      <td></td>\n",
       "      <td></td>\n",
       "      <td></td>\n",
       "    </tr>\n",
       "    <tr>\n",
       "      <th>4</th>\n",
       "      <td>8300R/8714P/8307R</td>\n",
       "      <td>04:36:00</td>\n",
       "      <td>12:19:00</td>\n",
       "      <td>SER105</td>\n",
       "    </tr>\n",
       "    <tr>\n",
       "      <th>5</th>\n",
       "      <td>Avail</td>\n",
       "      <td>05:00:00</td>\n",
       "      <td>13:00:00</td>\n",
       "      <td></td>\n",
       "    </tr>\n",
       "    <tr>\n",
       "      <th>...</th>\n",
       "      <th>...</th>\n",
       "      <th>...</th>\n",
       "      <td>...</td>\n",
       "      <td>...</td>\n",
       "      <td>...</td>\n",
       "      <td>...</td>\n",
       "    </tr>\n",
       "    <tr>\n",
       "      <th rowspan=\"5\" valign=\"top\">11</th>\n",
       "      <th rowspan=\"5\" valign=\"top\">4</th>\n",
       "      <th>3</th>\n",
       "      <td>Avail</td>\n",
       "      <td>14:00:00</td>\n",
       "      <td>22:00:00</td>\n",
       "      <td></td>\n",
       "    </tr>\n",
       "    <tr>\n",
       "      <th>4</th>\n",
       "      <td>8365R/8368R/8337R</td>\n",
       "      <td>13:45:00</td>\n",
       "      <td>21:58:00</td>\n",
       "      <td>SER112</td>\n",
       "    </tr>\n",
       "    <tr>\n",
       "      <th>5</th>\n",
       "      <td>8332R/8339R</td>\n",
       "      <td>17:43:00</td>\n",
       "      <td>23:43:00</td>\n",
       "      <td>SER114</td>\n",
       "    </tr>\n",
       "    <tr>\n",
       "      <th>6</th>\n",
       "      <td>8332R/8339R</td>\n",
       "      <td>17:43:00</td>\n",
       "      <td>23:43:00</td>\n",
       "      <td>SER114</td>\n",
       "    </tr>\n",
       "    <tr>\n",
       "      <th>7</th>\n",
       "      <td>Rostered Off</td>\n",
       "      <td></td>\n",
       "      <td></td>\n",
       "      <td></td>\n",
       "    </tr>\n",
       "  </tbody>\n",
       "</table>\n",
       "<p>308 rows × 4 columns</p>\n",
       "</div>"
      ],
      "text/plain": [
       "                          trains     start    finish     job\n",
       "line week day                                               \n",
       "1    1    1       Rostered Off                   NaN        \n",
       "          2       Rostered Off                              \n",
       "          3                EDO                              \n",
       "          4    8300R/8714P/8307R  04:36:00  12:19:00  SER105\n",
       "          5              Avail    05:00:00  13:00:00        \n",
       "...                          ...       ...       ...     ...\n",
       "11   4    3              Avail    14:00:00  22:00:00        \n",
       "          4    8365R/8368R/8337R  13:45:00  21:58:00  SER112\n",
       "          5          8332R/8339R  17:43:00  23:43:00  SER114\n",
       "          6          8332R/8339R  17:43:00  23:43:00  SER114\n",
       "          7       Rostered Off                              \n",
       "\n",
       "[308 rows x 4 columns]"
      ]
     },
     "execution_count": 328,
     "metadata": {},
     "output_type": "execute_result"
    }
   ],
   "source": [
    "roster_length = 11\n",
    "\n",
    "class Roster:\n",
    "    def __init__(self, sheet=sheet_path, epoch_=epoch):\n",
    "        self.sheet = sheet\n",
    "        self.epoch = epoch_\n",
    "        self.roster = self.create_dfs()\n",
    "        \n",
    "    def read_cell(self, raw_roster, coord): \n",
    "        data = raw_roster.iloc[coord[0]:coord[0]+5,coord[1]:coord[1]+2]\n",
    "        job = {}\n",
    "        job['trains'] = ''\n",
    "        if type(data.iloc[2,0]) == str:\n",
    "            job['trains'] = data.iloc[2,0]\n",
    "        if type(data.iloc[1,1]) == str:\n",
    "            job['trains'] = job['trains'] + ' ' + data.iloc[1,1]\n",
    "            \n",
    "        if job['trains'] in ['Rostered Off', 'EDO', 'BOWP']:\n",
    "            job['start'] = None\n",
    "            job['finish'] = None\n",
    "            job['job'] = None\n",
    "        else:\n",
    "            job['start'],job['finish'] = data.iloc[0,0], data.iloc[0,1]\n",
    "            job['job'] = data.iloc[1,0]\n",
    "        return job\n",
    "        \n",
    "        \n",
    "    \n",
    "    def cell_coord(self, line, day): \n",
    "        return [(line-1)*5,(day-1)*2]\n",
    "    \n",
    "    def create_df(self, week):\n",
    "        name = \"PROPOSED ROSTER WEEK \"+str(week)\n",
    "        raw_roster = pd.read_excel(self.sheet, sheet_name=name, header=None)\n",
    "        roster_df = pd.DataFrame()\n",
    "        for line in range(1,roster_length+1):\n",
    "            for day in range(1,8):\n",
    "                job = self.read_cell(raw_roster, self.cell_coord(line,day))\n",
    "                job['day'] = day\n",
    "                job['line'] = line\n",
    "                job['week'] = week\n",
    "                df = pd.DataFrame([job])\n",
    "                roster_df = pd.concat([roster_df,df])\n",
    "        return roster_df\n",
    "    \n",
    "    def create_dfs(self):\n",
    "        dfs=[]\n",
    "        for i in range(1,5):\n",
    "            dfs.append(self.create_df(i))\n",
    "        df = pd.DataFrame()\n",
    "        df = pd.concat(dfs)\n",
    "        return df\n",
    "    \n",
    "r = Roster(sheet_path, epoch)\n",
    "r.roster = r.roster.set_index(['line','week','day'])\n",
    "r.roster"
   ]
  },
  {
   "cell_type": "code",
   "execution_count": 330,
   "metadata": {},
   "outputs": [
    {
     "data": {
      "text/plain": [
       "0"
      ]
     },
     "execution_count": 330,
     "metadata": {},
     "output_type": "execute_result"
    }
   ],
   "source": [
    "len(r.roster.groupby('line'))\n",
    "r.roster.index.get_loc((1,1,1))"
   ]
  },
  {
   "cell_type": "code",
   "execution_count": 197,
   "metadata": {},
   "outputs": [
    {
     "ename": "AttributeError",
     "evalue": "module 'roster' has no attribute 'df'",
     "output_type": "error",
     "traceback": [
      "\u001b[1;31m---------------------------------------------------------------------------\u001b[0m",
      "\u001b[1;31mAttributeError\u001b[0m                            Traceback (most recent call last)",
      "\u001b[1;32m<ipython-input-197-88b37983ec2e>\u001b[0m in \u001b[0;36m<module>\u001b[1;34m\u001b[0m\n\u001b[0;32m      1\u001b[0m \u001b[1;32mwith\u001b[0m \u001b[0mpd\u001b[0m\u001b[1;33m.\u001b[0m\u001b[0moption_context\u001b[0m\u001b[1;33m(\u001b[0m\u001b[1;34m'display.max_rows'\u001b[0m\u001b[1;33m,\u001b[0m \u001b[1;32mNone\u001b[0m\u001b[1;33m,\u001b[0m \u001b[1;34m'display.max_columns'\u001b[0m\u001b[1;33m,\u001b[0m \u001b[1;32mNone\u001b[0m\u001b[1;33m)\u001b[0m\u001b[1;33m:\u001b[0m  \u001b[1;31m# more options can be specified also\u001b[0m\u001b[1;33m\u001b[0m\u001b[1;33m\u001b[0m\u001b[0m\n\u001b[1;32m----> 2\u001b[1;33m     \u001b[0mdf\u001b[0m \u001b[1;33m=\u001b[0m\u001b[0mroster\u001b[0m\u001b[1;33m.\u001b[0m\u001b[0mdf\u001b[0m\u001b[1;33m.\u001b[0m\u001b[0mreset_index\u001b[0m\u001b[1;33m(\u001b[0m\u001b[1;34m'rosDay'\u001b[0m\u001b[1;33m)\u001b[0m\u001b[1;33m\u001b[0m\u001b[1;33m\u001b[0m\u001b[0m\n\u001b[0m\u001b[0;32m      3\u001b[0m     \u001b[0mprint\u001b[0m\u001b[1;33m(\u001b[0m\u001b[0mdf\u001b[0m\u001b[1;33m[\u001b[0m\u001b[0mdf\u001b[0m\u001b[1;33m.\u001b[0m\u001b[0mrosDay\u001b[0m\u001b[1;33m<\u001b[0m\u001b[1;36m3\u001b[0m\u001b[1;33m]\u001b[0m\u001b[1;33m)\u001b[0m\u001b[1;33m\u001b[0m\u001b[1;33m\u001b[0m\u001b[0m\n",
      "\u001b[1;31mAttributeError\u001b[0m: module 'roster' has no attribute 'df'"
     ]
    }
   ],
   "source": [
    "with pd.option_context('display.max_rows', None, 'display.max_columns', None):  # more options can be specified also\n",
    "    df =roster.df.reset_index('rosDay')\n",
    "    print(df[df.rosDay<3])"
   ]
  },
  {
   "cell_type": "code",
   "execution_count": 14,
   "metadata": {},
   "outputs": [
    {
     "ename": "NameError",
     "evalue": "name 'working_dir' is not defined",
     "output_type": "error",
     "traceback": [
      "\u001b[1;31m---------------------------------------------------------------------------\u001b[0m",
      "\u001b[1;31mNameError\u001b[0m                                 Traceback (most recent call last)",
      "\u001b[1;32m<ipython-input-14-61a3971811c7>\u001b[0m in \u001b[0;36m<module>\u001b[1;34m\u001b[0m\n\u001b[1;32m----> 1\u001b[1;33m \u001b[1;32mwith\u001b[0m \u001b[0mopen\u001b[0m\u001b[1;33m(\u001b[0m\u001b[0mworking_dir\u001b[0m \u001b[1;33m+\u001b[0m \u001b[1;34m\"\\\\swaps.db\"\u001b[0m\u001b[1;33m)\u001b[0m \u001b[1;32mas\u001b[0m \u001b[0mfile\u001b[0m\u001b[1;33m:\u001b[0m\u001b[1;33m\u001b[0m\u001b[1;33m\u001b[0m\u001b[0m\n\u001b[0m\u001b[0;32m      2\u001b[0m     \u001b[0mswaps\u001b[0m \u001b[1;33m=\u001b[0m \u001b[0mgui\u001b[0m\u001b[1;33m.\u001b[0m\u001b[0mSwaps\u001b[0m\u001b[1;33m(\u001b[0m\u001b[1;33m)\u001b[0m\u001b[1;33m\u001b[0m\u001b[1;33m\u001b[0m\u001b[0m\n\u001b[0;32m      3\u001b[0m     \u001b[0mswaps\u001b[0m\u001b[1;33m.\u001b[0m\u001b[0mswaps\u001b[0m \u001b[1;33m=\u001b[0m \u001b[0mpd\u001b[0m\u001b[1;33m.\u001b[0m\u001b[0mread_sql\u001b[0m\u001b[1;33m(\u001b[0m\u001b[1;34m'Swaps'\u001b[0m\u001b[1;33m,\u001b[0m \u001b[0mcon\u001b[0m\u001b[1;33m)\u001b[0m\u001b[1;33m\u001b[0m\u001b[1;33m\u001b[0m\u001b[0m\n",
      "\u001b[1;31mNameError\u001b[0m: name 'working_dir' is not defined"
     ]
    }
   ],
   "source": [
    "with open(working_dir + \"\\\\swaps.db\") as file:\n",
    "    swaps = gui.Swaps()\n",
    "    swaps.swaps = pd.read_sql('Swaps', con)"
   ]
  },
  {
   "cell_type": "code",
   "execution_count": null,
   "metadata": {},
   "outputs": [],
   "source": [
    "df = pd.read_csv(working_dir+\"//rosterDataFrame.csv\", parse_dates=['start','finish'])"
   ]
  },
  {
   "cell_type": "code",
   "execution_count": 1,
   "metadata": {},
   "outputs": [
    {
     "name": "stdout",
     "output_type": "stream",
     "text": [
      "D:\\Anaconda\\envs\\payroll_and_roster\\python.exe\n"
     ]
    }
   ],
   "source": [
    "import sys\n",
    "print(sys.executable)"
   ]
  },
  {
   "cell_type": "code",
   "execution_count": 109,
   "metadata": {
    "scrolled": true
   },
   "outputs": [
    {
     "name": "stdout",
     "output_type": "stream",
     "text": [
      "0\n",
      "1\n",
      "2\n",
      "3\n",
      "4\n",
      "5\n",
      "6\n",
      "7\n",
      "8\n",
      "9\n",
      "10\n",
      "11\n",
      "12\n",
      "13\n",
      "14\n",
      "15\n",
      "16\n",
      "17\n",
      "18\n",
      "19\n",
      "20\n",
      "21\n",
      "22\n",
      "23\n",
      "24\n",
      "25\n",
      "26\n",
      "27\n",
      "28\n",
      "0\n",
      "0\n",
      "0\n",
      "0\n",
      "0\n",
      "0\n"
     ]
    },
    {
     "data": {
      "text/plain": [
       "[None,\n",
       " None,\n",
       " None,\n",
       " None,\n",
       " None,\n",
       " None,\n",
       " None,\n",
       " None,\n",
       " None,\n",
       " None,\n",
       " None,\n",
       " None,\n",
       " None,\n",
       " None,\n",
       " None,\n",
       " None,\n",
       " None,\n",
       " None,\n",
       " None,\n",
       " None,\n",
       " None,\n",
       " None,\n",
       " None,\n",
       " None,\n",
       " None,\n",
       " None,\n",
       " None,\n",
       " None,\n",
       " None,\n",
       " None,\n",
       " None,\n",
       " None,\n",
       " None,\n",
       " None,\n",
       " None]"
      ]
     },
     "execution_count": 109,
     "metadata": {},
     "output_type": "execute_result"
    }
   ],
   "source": [
    "cal = gui.calend(datetime(2021,2,1))\n",
    "roster_ = roster.Roster()\n",
    "shifts = gui.get_shifts(cal, roster_, 1)\n",
    "x = [True if i > 0 else False for i in cal.itermonthdays(cal.date.year,cal.date.month)]\n",
    "shifts = shifts[:len(x)]\n",
    "#shifts['start'] = pd.to_datetime(shifts['start']).dt.time\n",
    "#shifts['start'].iloc[0]\n",
    "shifts\n",
    "[print(i)for i in cal.itermonthdays(cal.date.year,cal.date.month)]"
   ]
  },
  {
   "cell_type": "code",
   "execution_count": 107,
   "metadata": {},
   "outputs": [
    {
     "ename": "AttributeError",
     "evalue": "module 'roster' has no attribute 'df'",
     "output_type": "error",
     "traceback": [
      "\u001b[1;31m---------------------------------------------------------------------------\u001b[0m",
      "\u001b[1;31mAttributeError\u001b[0m                            Traceback (most recent call last)",
      "\u001b[1;32m<ipython-input-107-8eee60fb3a80>\u001b[0m in \u001b[0;36m<module>\u001b[1;34m\u001b[0m\n\u001b[0;32m      5\u001b[0m \u001b[1;33m\u001b[0m\u001b[0m\n\u001b[0;32m      6\u001b[0m     \u001b[1;31m#service = get_creds()\u001b[0m\u001b[1;33m\u001b[0m\u001b[1;33m\u001b[0m\u001b[1;33m\u001b[0m\u001b[0m\n\u001b[1;32m----> 7\u001b[1;33m     \u001b[0mshifts\u001b[0m\u001b[1;33m=\u001b[0m\u001b[0mgui\u001b[0m\u001b[1;33m.\u001b[0m\u001b[0mget_shifts\u001b[0m\u001b[1;33m(\u001b[0m\u001b[0mcal\u001b[0m\u001b[1;33m,\u001b[0m \u001b[0mroster\u001b[0m\u001b[1;33m,\u001b[0m \u001b[0mline\u001b[0m\u001b[1;33m)\u001b[0m\u001b[1;33m\u001b[0m\u001b[1;33m\u001b[0m\u001b[0m\n\u001b[0m\u001b[0;32m      8\u001b[0m     \u001b[0mc\u001b[0m \u001b[1;33m=\u001b[0m \u001b[1;33m[\u001b[0m\u001b[0mi\u001b[0m \u001b[1;32mfor\u001b[0m \u001b[0mi\u001b[0m \u001b[1;32min\u001b[0m \u001b[0mcal\u001b[0m\u001b[1;33m.\u001b[0m\u001b[0mitermonthdates\u001b[0m\u001b[1;33m(\u001b[0m\u001b[0mcal\u001b[0m\u001b[1;33m.\u001b[0m\u001b[0mdate\u001b[0m\u001b[1;33m.\u001b[0m\u001b[0myear\u001b[0m\u001b[1;33m,\u001b[0m \u001b[0mcal\u001b[0m\u001b[1;33m.\u001b[0m\u001b[0mdate\u001b[0m\u001b[1;33m.\u001b[0m\u001b[0mmonth\u001b[0m\u001b[1;33m)\u001b[0m\u001b[1;33m]\u001b[0m\u001b[1;33m\u001b[0m\u001b[1;33m\u001b[0m\u001b[0m\n\u001b[0;32m      9\u001b[0m     \u001b[0mii\u001b[0m \u001b[1;33m=\u001b[0m \u001b[1;36m0\u001b[0m\u001b[1;33m\u001b[0m\u001b[1;33m\u001b[0m\u001b[0m\n",
      "\u001b[1;32mA:\\Python\\payroll_and_roster\\gui.py\u001b[0m in \u001b[0;36mget_shifts\u001b[1;34m(cal, roster, line)\u001b[0m\n\u001b[0;32m    196\u001b[0m             \u001b[0mwindow\u001b[0m\u001b[1;33m[\u001b[0m\u001b[0menc_btn\u001b[0m\u001b[1;33m(\u001b[0m\u001b[0mi\u001b[0m\u001b[1;33m)\u001b[0m\u001b[1;33m]\u001b[0m\u001b[1;33m.\u001b[0m\u001b[0mupdate\u001b[0m\u001b[1;33m(\u001b[0m\u001b[0mvisible\u001b[0m\u001b[1;33m=\u001b[0m\u001b[1;32mFalse\u001b[0m\u001b[1;33m)\u001b[0m   \u001b[1;31m# button_color=('white','white'))\u001b[0m\u001b[1;33m\u001b[0m\u001b[1;33m\u001b[0m\u001b[0m\n\u001b[0;32m    197\u001b[0m         \u001b[1;32melse\u001b[0m\u001b[1;33m:\u001b[0m\u001b[1;33m\u001b[0m\u001b[1;33m\u001b[0m\u001b[0m\n\u001b[1;32m--> 198\u001b[1;33m             \u001b[0mwindow\u001b[0m\u001b[1;33m[\u001b[0m\u001b[0menc_btn\u001b[0m\u001b[1;33m(\u001b[0m\u001b[0mi\u001b[0m\u001b[1;33m)\u001b[0m\u001b[1;33m]\u001b[0m\u001b[1;33m.\u001b[0m\u001b[0mupdate\u001b[0m\u001b[1;33m(\u001b[0m\u001b[0mvisible\u001b[0m\u001b[1;33m=\u001b[0m\u001b[1;32mTrue\u001b[0m\u001b[1;33m)\u001b[0m\u001b[1;33m\u001b[0m\u001b[1;33m\u001b[0m\u001b[0m\n\u001b[0m\u001b[0;32m    199\u001b[0m \u001b[1;33m\u001b[0m\u001b[0m\n\u001b[0;32m    200\u001b[0m \u001b[1;32mdef\u001b[0m \u001b[0mget_shifts\u001b[0m\u001b[1;33m(\u001b[0m\u001b[0mcal\u001b[0m\u001b[1;33m,\u001b[0m \u001b[0mroster\u001b[0m\u001b[1;33m,\u001b[0m \u001b[0mline\u001b[0m\u001b[1;33m)\u001b[0m\u001b[1;33m:\u001b[0m\u001b[1;33m\u001b[0m\u001b[1;33m\u001b[0m\u001b[0m\n",
      "\u001b[1;31mAttributeError\u001b[0m: module 'roster' has no attribute 'df'"
     ]
    }
   ],
   "source": [
    "if os.path.exists(working_dir+'\\\\guiSettings.json'):\n",
    "    with open(working_dir + \"\\\\guiSettings.json\") as file:\n",
    "        settings = json.load(file)\n",
    "    line = settings['initialLine']\n",
    "\n",
    "    #service = get_creds()\n",
    "    shifts=gui.get_shifts(cal, roster, line)\n",
    "    c = [i for i in cal.itermonthdates(cal.date.year, cal.date.month)]\n",
    "    ii = 0\n",
    "    for i, row in shifts.iterrows():\n",
    "        print('-----------')\n",
    "        print(ii)\n",
    "        row['date'] = c[ii]\n",
    "        print(roster.format_job(row))\n",
    "        ii+=1"
   ]
  },
  {
   "cell_type": "code",
   "execution_count": 3,
   "metadata": {},
   "outputs": [
    {
     "name": "stdout",
     "output_type": "stream",
     "text": [
      "langa is\n",
      "dum\n"
     ]
    }
   ],
   "source": [
    "def dum_print(arg1, arg2):\n",
    "    print(arg1)\n",
    "    print(arg2)\n",
    "\n",
    "two_args = ['langa is',  'dum']\n",
    "\n",
    "print_two_args(two_args)\n",
    "#this doesnt work coz dum_print is expecting two arguements\n",
    "\n",
    "\n",
    "\n",
    "print_two_args(*two_args)\n",
    "#this does work because the * unpacks the two_args list before passing it to dum_print"
   ]
  },
  {
   "cell_type": "code",
   "execution_count": null,
   "metadata": {},
   "outputs": [],
   "source": []
  },
  {
   "cell_type": "code",
   "execution_count": 31,
   "metadata": {},
   "outputs": [],
   "source": [
    "nw = pd.DataFrame({'swap_with':['TEST'], 'to_line': [6], 'dates': [datetime(2021,12,30)]})"
   ]
  },
  {
   "cell_type": "code",
   "execution_count": 32,
   "metadata": {},
   "outputs": [
    {
     "data": {
      "text/html": [
       "<div>\n",
       "<style scoped>\n",
       "    .dataframe tbody tr th:only-of-type {\n",
       "        vertical-align: middle;\n",
       "    }\n",
       "\n",
       "    .dataframe tbody tr th {\n",
       "        vertical-align: top;\n",
       "    }\n",
       "\n",
       "    .dataframe thead th {\n",
       "        text-align: right;\n",
       "    }\n",
       "</style>\n",
       "<table border=\"1\" class=\"dataframe\">\n",
       "  <thead>\n",
       "    <tr style=\"text-align: right;\">\n",
       "      <th></th>\n",
       "      <th>swap_with</th>\n",
       "      <th>to_line</th>\n",
       "      <th>dates</th>\n",
       "    </tr>\n",
       "  </thead>\n",
       "  <tbody>\n",
       "    <tr>\n",
       "      <th>0</th>\n",
       "      <td>name</td>\n",
       "      <td>0</td>\n",
       "      <td>2021-02-25</td>\n",
       "    </tr>\n",
       "    <tr>\n",
       "      <th>1</th>\n",
       "      <td>name</td>\n",
       "      <td>0</td>\n",
       "      <td>2021-02-24</td>\n",
       "    </tr>\n",
       "    <tr>\n",
       "      <th>2</th>\n",
       "      <td>name</td>\n",
       "      <td>0</td>\n",
       "      <td>2021-02-23</td>\n",
       "    </tr>\n",
       "    <tr>\n",
       "      <th>3</th>\n",
       "      <td>name</td>\n",
       "      <td>0</td>\n",
       "      <td>2021-02-16</td>\n",
       "    </tr>\n",
       "    <tr>\n",
       "      <th>4</th>\n",
       "      <td>name</td>\n",
       "      <td>0</td>\n",
       "      <td>2021-02-17</td>\n",
       "    </tr>\n",
       "    <tr>\n",
       "      <th>5</th>\n",
       "      <td>name</td>\n",
       "      <td>0</td>\n",
       "      <td>2021-02-18</td>\n",
       "    </tr>\n",
       "    <tr>\n",
       "      <th>6</th>\n",
       "      <td>name</td>\n",
       "      <td>0</td>\n",
       "      <td>2021-02-11</td>\n",
       "    </tr>\n",
       "    <tr>\n",
       "      <th>7</th>\n",
       "      <td>name</td>\n",
       "      <td>0</td>\n",
       "      <td>2021-02-10</td>\n",
       "    </tr>\n",
       "    <tr>\n",
       "      <th>8</th>\n",
       "      <td>name</td>\n",
       "      <td>0</td>\n",
       "      <td>2021-02-09</td>\n",
       "    </tr>\n",
       "    <tr>\n",
       "      <th>9</th>\n",
       "      <td>TEST</td>\n",
       "      <td>6</td>\n",
       "      <td>2021-06-30</td>\n",
       "    </tr>\n",
       "    <tr>\n",
       "      <th>10</th>\n",
       "      <td>TEST</td>\n",
       "      <td>6</td>\n",
       "      <td>2021-06-30</td>\n",
       "    </tr>\n",
       "    <tr>\n",
       "      <th>11</th>\n",
       "      <td>TEST</td>\n",
       "      <td>6</td>\n",
       "      <td>2021-12-30</td>\n",
       "    </tr>\n",
       "  </tbody>\n",
       "</table>\n",
       "</div>"
      ],
      "text/plain": [
       "   swap_with to_line      dates\n",
       "0       name       0 2021-02-25\n",
       "1       name       0 2021-02-24\n",
       "2       name       0 2021-02-23\n",
       "3       name       0 2021-02-16\n",
       "4       name       0 2021-02-17\n",
       "5       name       0 2021-02-18\n",
       "6       name       0 2021-02-11\n",
       "7       name       0 2021-02-10\n",
       "8       name       0 2021-02-09\n",
       "9       TEST       6 2021-06-30\n",
       "10      TEST       6 2021-06-30\n",
       "11      TEST       6 2021-12-30"
      ]
     },
     "execution_count": 32,
     "metadata": {},
     "output_type": "execute_result"
    }
   ],
   "source": [
    "swaps.swaps = swaps.swaps.append(nw, ignore_index=True)\n",
    "swaps.swaps"
   ]
  },
  {
   "cell_type": "code",
   "execution_count": 57,
   "metadata": {},
   "outputs": [
    {
     "data": {
      "text/html": [
       "<div>\n",
       "<style scoped>\n",
       "    .dataframe tbody tr th:only-of-type {\n",
       "        vertical-align: middle;\n",
       "    }\n",
       "\n",
       "    .dataframe tbody tr th {\n",
       "        vertical-align: top;\n",
       "    }\n",
       "\n",
       "    .dataframe thead th {\n",
       "        text-align: right;\n",
       "    }\n",
       "</style>\n",
       "<table border=\"1\" class=\"dataframe\">\n",
       "  <thead>\n",
       "    <tr style=\"text-align: right;\">\n",
       "      <th></th>\n",
       "      <th>to_line</th>\n",
       "      <th>dates</th>\n",
       "    </tr>\n",
       "  </thead>\n",
       "  <tbody>\n",
       "    <tr>\n",
       "      <th>0</th>\n",
       "      <td>0</td>\n",
       "      <td>2021-02-25</td>\n",
       "    </tr>\n",
       "    <tr>\n",
       "      <th>1</th>\n",
       "      <td>0</td>\n",
       "      <td>2021-02-24</td>\n",
       "    </tr>\n",
       "    <tr>\n",
       "      <th>2</th>\n",
       "      <td>0</td>\n",
       "      <td>2021-02-23</td>\n",
       "    </tr>\n",
       "    <tr>\n",
       "      <th>3</th>\n",
       "      <td>0</td>\n",
       "      <td>2021-02-16</td>\n",
       "    </tr>\n",
       "    <tr>\n",
       "      <th>4</th>\n",
       "      <td>0</td>\n",
       "      <td>2021-02-17</td>\n",
       "    </tr>\n",
       "    <tr>\n",
       "      <th>5</th>\n",
       "      <td>0</td>\n",
       "      <td>2021-02-18</td>\n",
       "    </tr>\n",
       "    <tr>\n",
       "      <th>6</th>\n",
       "      <td>0</td>\n",
       "      <td>2021-02-11</td>\n",
       "    </tr>\n",
       "    <tr>\n",
       "      <th>7</th>\n",
       "      <td>0</td>\n",
       "      <td>2021-02-10</td>\n",
       "    </tr>\n",
       "    <tr>\n",
       "      <th>8</th>\n",
       "      <td>0</td>\n",
       "      <td>2021-02-09</td>\n",
       "    </tr>\n",
       "    <tr>\n",
       "      <th>9</th>\n",
       "      <td>6</td>\n",
       "      <td>2021-06-30</td>\n",
       "    </tr>\n",
       "    <tr>\n",
       "      <th>10</th>\n",
       "      <td>6</td>\n",
       "      <td>2021-06-30</td>\n",
       "    </tr>\n",
       "    <tr>\n",
       "      <th>11</th>\n",
       "      <td>6</td>\n",
       "      <td>2021-12-30</td>\n",
       "    </tr>\n",
       "  </tbody>\n",
       "</table>\n",
       "</div>"
      ],
      "text/plain": [
       "   to_line      dates\n",
       "0        0 2021-02-25\n",
       "1        0 2021-02-24\n",
       "2        0 2021-02-23\n",
       "3        0 2021-02-16\n",
       "4        0 2021-02-17\n",
       "5        0 2021-02-18\n",
       "6        0 2021-02-11\n",
       "7        0 2021-02-10\n",
       "8        0 2021-02-09\n",
       "9        6 2021-06-30\n",
       "10       6 2021-06-30\n",
       "11       6 2021-12-30"
      ]
     },
     "execution_count": 57,
     "metadata": {},
     "output_type": "execute_result"
    }
   ],
   "source": [
    "s = swaps.swaps\n",
    "s[['to_line','dates']]"
   ]
  },
  {
   "cell_type": "code",
   "execution_count": 53,
   "metadata": {},
   "outputs": [
    {
     "data": {
      "text/html": [
       "<div>\n",
       "<style scoped>\n",
       "    .dataframe tbody tr th:only-of-type {\n",
       "        vertical-align: middle;\n",
       "    }\n",
       "\n",
       "    .dataframe tbody tr th {\n",
       "        vertical-align: top;\n",
       "    }\n",
       "\n",
       "    .dataframe thead th {\n",
       "        text-align: right;\n",
       "    }\n",
       "</style>\n",
       "<table border=\"1\" class=\"dataframe\">\n",
       "  <thead>\n",
       "    <tr style=\"text-align: right;\">\n",
       "      <th></th>\n",
       "      <th>swap_with</th>\n",
       "      <th>to_line</th>\n",
       "      <th>dates</th>\n",
       "    </tr>\n",
       "  </thead>\n",
       "  <tbody>\n",
       "    <tr>\n",
       "      <th>11</th>\n",
       "      <td>TEST</td>\n",
       "      <td>6</td>\n",
       "      <td>2021-12-30</td>\n",
       "    </tr>\n",
       "  </tbody>\n",
       "</table>\n",
       "</div>"
      ],
      "text/plain": [
       "   swap_with to_line      dates\n",
       "11      TEST       6 2021-12-30"
      ]
     },
     "execution_count": 53,
     "metadata": {},
     "output_type": "execute_result"
    }
   ],
   "source": [
    "d = datetime(2021,12,30).date()\n",
    "s[s.dates == pd.Timestamp(d)]"
   ]
  },
  {
   "cell_type": "code",
   "execution_count": null,
   "metadata": {},
   "outputs": [],
   "source": []
  },
  {
   "cell_type": "code",
   "execution_count": null,
   "metadata": {},
   "outputs": [],
   "source": []
  },
  {
   "cell_type": "code",
   "execution_count": null,
   "metadata": {},
   "outputs": [],
   "source": []
  },
  {
   "cell_type": "code",
   "execution_count": null,
   "metadata": {},
   "outputs": [],
   "source": []
  },
  {
   "cell_type": "code",
   "execution_count": 2,
   "metadata": {},
   "outputs": [
    {
     "name": "stderr",
     "output_type": "stream",
     "text": [
      " 2021-01-12 15:32:39,632 - DEBUG- Start of program\n"
     ]
    },
    {
     "name": "stdout",
     "output_type": "stream",
     "text": [
      "2020-01-01   New Year's Day\n",
      "2020-01-26   Australia Day\n",
      "2020-01-27   Australia Day (Observed)\n",
      "2020-03-09   Labour Day\n",
      "2020-04-10   Good Friday\n",
      "2020-04-11   Easter Saturday\n",
      "2020-04-12   Easter Sunday\n",
      "2020-04-13   Easter Monday\n",
      "2020-04-25   Anzac Day\n",
      "2020-06-08   Queen's Birthday\n",
      "2020-10-23   Grand Final Day\n",
      "2020-11-03   Melbourne Cup\n",
      "2020-12-25   Christmas Day\n",
      "2020-12-26   Boxing Day\n",
      "2020-12-28   Boxing Day (Observed)\n",
      "A:\\Python\\payroll_and_roster\\\\MasterRoster.pdf\n"
     ]
    }
   ],
   "source": [
    "import tabula, roster, os\n",
    "if os.environ['COMPUTERNAME'] == 'JMLAPTOP':\n",
    "    pdfPath =   r'C:\\Users\\james\\PycharmProjects\\payroll_and_roster\\MasterRoster.pdf'\n",
    "elif os.environ['COMPUTERNAME'] == 'JAMESPC':\n",
    "    pdfPath = r'A:\\Python\\payroll_and_roster\\\\MasterRoster.pdf'\n",
    "print(pdfPath)"
   ]
  },
  {
   "cell_type": "code",
   "execution_count": 3,
   "metadata": {
    "scrolled": true
   },
   "outputs": [],
   "source": [
    "pdfFullPages = 8 + 1 \n",
    "lastPcoords = [148.6, 107.0 ,1166.4, 251.5]\n",
    "tabular_roster = pd.DataFrame()\n",
    "for i in range(1,pdfFullPages+1):\n",
    "    roster_pdf = open(pdfPath,'rb')\n",
    "    #coords of the area in the roster found using GIMP:\n",
    "    if i == pdfFullPages+1:\n",
    "        x = tabula.read_pdf(roster_pdf, pages=int(i), lattice=1, area=lastPcoords)\n",
    "        print('AA')\n",
    "    else:\n",
    "        x = tabula.read_pdf(roster_pdf, pages=int(i), lattice=1, area=[100,149,589, 1167.9])\n",
    "    x.dropna(axis=0, thresh=30, inplace=True)\n",
    "    x.dropna(axis=1,how='all', inplace=True)\n",
    "    x.columns = [str(i) for i in range(1,15)] + ['h1'] + [str(i) for i in range(15,29)] + ['h2']\n",
    "    tabular_roster = tabular_roster.append(x)\n",
    "    \n",
    "tabular_roster.index = [str(i+1) for i in range(len(tabular_roster))]\n",
    "tabular_roster.drop(['h1', 'h2'], axis=1, inplace=True)"
   ]
  },
  {
   "cell_type": "code",
   "execution_count": 4,
   "metadata": {
    "scrolled": true
   },
   "outputs": [],
   "source": [
    "def fix_times(timeStr):\n",
    "    if timeStr == '2400':\n",
    "        timeStr='0000'\n",
    "    return datetime.strptime(timeStr, \"%H%M\").time()\n",
    "    \n",
    "def fix_cell(x):\n",
    "    fix_cell.helper +=1\n",
    "    try:\n",
    "        if x.startswith('OFF'):\n",
    "            items = {'id': 'OFF', 'hours':None, 'start':None, 'finish': None, 'rest':False}\n",
    "        elif x.startswith('SPE'):\n",
    "            items = x.split('\\r')\n",
    "            fixTimes = items[2].split('-')\n",
    "            del items[2]\n",
    "            fixTimes = [fix_times(i) for i in fixTimes]\n",
    "            items = {'id':items[0], 'hours':items[1], 'start':fixTimes[0], 'finish':fixTimes[1], 'rest':False}\n",
    "            if x.startswith('SPEX'):\n",
    "                items['rest'] = True\n",
    "        elif x.startswith('EDO'):\n",
    "            items = {'id': 'EDO', 'hours':None, 'start':None, 'finish': None, 'rest':False}\n",
    "        elif x.lower().startswith('av'):\n",
    "            start, finish = x.split('\\r')[-1].split('-')\n",
    "            job = {'id':'AV', 'hours':'8:00', 'start':fix_times(start), 'finish':fix_times(finish), 'rest':False}\n",
    "            return job\n",
    "        else:\n",
    "            print([x])\n",
    "            return x\n",
    "        return items\n",
    "    except(IndexError):\n",
    "        print('INDEX ERROR PASSING FOLLOWING:  ' + x)\n",
    "        print('col ' + str(fix_cell.helper//len(tabular_roster)))\n",
    "        print('row ' + str(fix_cell.helper%len(tabular_roster)))\n",
    "        return x\n",
    "fix_cell.helper = 0"
   ]
  },
  {
   "cell_type": "code",
   "execution_count": 5,
   "metadata": {},
   "outputs": [],
   "source": [
    "tabular_roster = tabular_roster.applymap(fix_cell)"
   ]
  },
  {
   "cell_type": "code",
   "execution_count": 6,
   "metadata": {},
   "outputs": [],
   "source": [
    "#tabular_roster.index.name = 'rost_line'\n",
    "#tabular_roster.rename_axis('day', axis=1)"
   ]
  },
  {
   "cell_type": "code",
   "execution_count": 7,
   "metadata": {},
   "outputs": [],
   "source": [
    "df = pd.DataFrame()\n",
    "for i in tabular_roster.iterrows():\n",
    "        for ii, dic in enumerate(i[1]):\n",
    "            dic['rosDay'] = ii + 1\n",
    "            dic['rosLine'] = int(i[0])\n",
    "            temp_df = pd.DataFrame(dic, index=[0])\n",
    "            df = df.append(temp_df)"
   ]
  },
  {
   "cell_type": "code",
   "execution_count": 8,
   "metadata": {
    "scrolled": true
   },
   "outputs": [
    {
     "data": {
      "text/plain": [
       "86"
      ]
     },
     "execution_count": 8,
     "metadata": {},
     "output_type": "execute_result"
    }
   ],
   "source": [
    "a = df.set_index(['rosLine','rosDay'])\n",
    "a.index.get_loc((4,3))"
   ]
  },
  {
   "cell_type": "code",
   "execution_count": 9,
   "metadata": {
    "scrolled": true
   },
   "outputs": [
    {
     "data": {
      "text/html": [
       "<div>\n",
       "<style scoped>\n",
       "    .dataframe tbody tr th:only-of-type {\n",
       "        vertical-align: middle;\n",
       "    }\n",
       "\n",
       "    .dataframe tbody tr th {\n",
       "        vertical-align: top;\n",
       "    }\n",
       "\n",
       "    .dataframe thead th {\n",
       "        text-align: right;\n",
       "    }\n",
       "</style>\n",
       "<table border=\"1\" class=\"dataframe\">\n",
       "  <thead>\n",
       "    <tr style=\"text-align: right;\">\n",
       "      <th></th>\n",
       "      <th></th>\n",
       "      <th>id</th>\n",
       "      <th>hours</th>\n",
       "      <th>start</th>\n",
       "      <th>finish</th>\n",
       "      <th>rest</th>\n",
       "    </tr>\n",
       "    <tr>\n",
       "      <th>rosLine</th>\n",
       "      <th>rosDay</th>\n",
       "      <th></th>\n",
       "      <th></th>\n",
       "      <th></th>\n",
       "      <th></th>\n",
       "      <th></th>\n",
       "    </tr>\n",
       "  </thead>\n",
       "  <tbody>\n",
       "    <tr>\n",
       "      <th rowspan=\"5\" valign=\"top\">1</th>\n",
       "      <th>1</th>\n",
       "      <td>OFF</td>\n",
       "      <td>None</td>\n",
       "      <td>None</td>\n",
       "      <td>None</td>\n",
       "      <td>False</td>\n",
       "    </tr>\n",
       "    <tr>\n",
       "      <th>2</th>\n",
       "      <td>OFF</td>\n",
       "      <td>None</td>\n",
       "      <td>None</td>\n",
       "      <td>None</td>\n",
       "      <td>False</td>\n",
       "    </tr>\n",
       "    <tr>\n",
       "      <th>3</th>\n",
       "      <td>SPER109</td>\n",
       "      <td>5:50</td>\n",
       "      <td>06:59:00</td>\n",
       "      <td>12:49:00</td>\n",
       "      <td>False</td>\n",
       "    </tr>\n",
       "    <tr>\n",
       "      <th>4</th>\n",
       "      <td>SPEX112</td>\n",
       "      <td>6:04</td>\n",
       "      <td>06:00:00</td>\n",
       "      <td>12:04:00</td>\n",
       "      <td>True</td>\n",
       "    </tr>\n",
       "    <tr>\n",
       "      <th>5</th>\n",
       "      <td>SPE130</td>\n",
       "      <td>6:46</td>\n",
       "      <td>04:59:00</td>\n",
       "      <td>11:45:00</td>\n",
       "      <td>False</td>\n",
       "    </tr>\n",
       "    <tr>\n",
       "      <th>...</th>\n",
       "      <th>...</th>\n",
       "      <td>...</td>\n",
       "      <td>...</td>\n",
       "      <td>...</td>\n",
       "      <td>...</td>\n",
       "      <td>...</td>\n",
       "    </tr>\n",
       "    <tr>\n",
       "      <th rowspan=\"5\" valign=\"top\">83</th>\n",
       "      <th>24</th>\n",
       "      <td>AV</td>\n",
       "      <td>8:00</td>\n",
       "      <td>11:00:00</td>\n",
       "      <td>19:00:00</td>\n",
       "      <td>False</td>\n",
       "    </tr>\n",
       "    <tr>\n",
       "      <th>25</th>\n",
       "      <td>AV</td>\n",
       "      <td>8:00</td>\n",
       "      <td>11:00:00</td>\n",
       "      <td>19:00:00</td>\n",
       "      <td>False</td>\n",
       "    </tr>\n",
       "    <tr>\n",
       "      <th>26</th>\n",
       "      <td>AV</td>\n",
       "      <td>8:00</td>\n",
       "      <td>11:00:00</td>\n",
       "      <td>19:00:00</td>\n",
       "      <td>False</td>\n",
       "    </tr>\n",
       "    <tr>\n",
       "      <th>27</th>\n",
       "      <td>AV</td>\n",
       "      <td>8:00</td>\n",
       "      <td>11:00:00</td>\n",
       "      <td>19:00:00</td>\n",
       "      <td>False</td>\n",
       "    </tr>\n",
       "    <tr>\n",
       "      <th>28</th>\n",
       "      <td>OFF</td>\n",
       "      <td>None</td>\n",
       "      <td>None</td>\n",
       "      <td>None</td>\n",
       "      <td>False</td>\n",
       "    </tr>\n",
       "  </tbody>\n",
       "</table>\n",
       "<p>2324 rows × 5 columns</p>\n",
       "</div>"
      ],
      "text/plain": [
       "                     id hours     start    finish   rest\n",
       "rosLine rosDay                                          \n",
       "1       1           OFF  None      None      None  False\n",
       "        2           OFF  None      None      None  False\n",
       "        3       SPER109  5:50  06:59:00  12:49:00  False\n",
       "        4       SPEX112  6:04  06:00:00  12:04:00   True\n",
       "        5        SPE130  6:46  04:59:00  11:45:00  False\n",
       "...                 ...   ...       ...       ...    ...\n",
       "83      24           AV  8:00  11:00:00  19:00:00  False\n",
       "        25           AV  8:00  11:00:00  19:00:00  False\n",
       "        26           AV  8:00  11:00:00  19:00:00  False\n",
       "        27           AV  8:00  11:00:00  19:00:00  False\n",
       "        28          OFF  None      None      None  False\n",
       "\n",
       "[2324 rows x 5 columns]"
      ]
     },
     "execution_count": 9,
     "metadata": {},
     "output_type": "execute_result"
    }
   ],
   "source": [
    "a"
   ]
  },
  {
   "cell_type": "code",
   "execution_count": null,
   "metadata": {},
   "outputs": [],
   "source": []
  },
  {
   "cell_type": "code",
   "execution_count": 1,
   "metadata": {},
   "outputs": [],
   "source": [
    "import sqlalchemy\n",
    "from sqlalchemy import create_engine"
   ]
  },
  {
   "cell_type": "code",
   "execution_count": 2,
   "metadata": {},
   "outputs": [],
   "source": [
    "engine = create_engine('sqlite:///:memory:', echo=True)"
   ]
  },
  {
   "cell_type": "code",
   "execution_count": 3,
   "metadata": {},
   "outputs": [],
   "source": [
    "from sqlalchemy.ext.declarative import declarative_base\n",
    "Base = declarative_base()"
   ]
  },
  {
   "cell_type": "code",
   "execution_count": 4,
   "metadata": {},
   "outputs": [],
   "source": [
    "from sqlalchemy import Column, Integer, String\n",
    "class User(Base):\n",
    "    __tablename__ = 'USERS'\n",
    "    id = Column(Integer, primary_key=True)\n",
    "    name = Column(String)\n",
    "    fullname = Column(String)\n",
    "    nickname = Column(String)\n",
    "    def __repr__(self):\n",
    "        return \"<User(name='%s', fullname='%s', nickname='%s')>\" % (self.name, self.fullname, self.nickname)"
   ]
  },
  {
   "cell_type": "code",
   "execution_count": 5,
   "metadata": {},
   "outputs": [
    {
     "data": {
      "text/plain": [
       "Table('USERS', MetaData(bind=None), Column('id', Integer(), table=<USERS>, primary_key=True, nullable=False), Column('name', String(), table=<USERS>), Column('fullname', String(), table=<USERS>), Column('nickname', String(), table=<USERS>), schema=None)"
      ]
     },
     "execution_count": 5,
     "metadata": {},
     "output_type": "execute_result"
    }
   ],
   "source": [
    "User.__table__ \n"
   ]
  },
  {
   "cell_type": "code",
   "execution_count": 6,
   "metadata": {},
   "outputs": [
    {
     "name": "stdout",
     "output_type": "stream",
     "text": [
      "2021-01-20 12:56:07,195 INFO sqlalchemy.engine.base.Engine SELECT CAST('test plain returns' AS VARCHAR(60)) AS anon_1\n",
      "2021-01-20 12:56:07,197 INFO sqlalchemy.engine.base.Engine ()\n",
      "2021-01-20 12:56:07,198 INFO sqlalchemy.engine.base.Engine SELECT CAST('test unicode returns' AS VARCHAR(60)) AS anon_1\n",
      "2021-01-20 12:56:07,199 INFO sqlalchemy.engine.base.Engine ()\n",
      "2021-01-20 12:56:07,200 INFO sqlalchemy.engine.base.Engine PRAGMA main.table_info(\"USERS\")\n",
      "2021-01-20 12:56:07,201 INFO sqlalchemy.engine.base.Engine ()\n",
      "2021-01-20 12:56:07,202 INFO sqlalchemy.engine.base.Engine PRAGMA temp.table_info(\"USERS\")\n",
      "2021-01-20 12:56:07,203 INFO sqlalchemy.engine.base.Engine ()\n",
      "2021-01-20 12:56:07,204 INFO sqlalchemy.engine.base.Engine \n",
      "CREATE TABLE \"USERS\" (\n",
      "\tid INTEGER NOT NULL, \n",
      "\tname VARCHAR, \n",
      "\tfullname VARCHAR, \n",
      "\tnickname VARCHAR, \n",
      "\tPRIMARY KEY (id)\n",
      ")\n",
      "\n",
      "\n",
      "2021-01-20 12:56:07,204 INFO sqlalchemy.engine.base.Engine ()\n",
      "2021-01-20 12:56:07,205 INFO sqlalchemy.engine.base.Engine COMMIT\n"
     ]
    }
   ],
   "source": [
    "Base.metadata.create_all(engine)"
   ]
  },
  {
   "cell_type": "code",
   "execution_count": 7,
   "metadata": {},
   "outputs": [],
   "source": [
    "ed_user = User(name='ed', fullname='Ed Jones', nickname='edsnickname')"
   ]
  },
  {
   "cell_type": "code",
   "execution_count": 8,
   "metadata": {},
   "outputs": [],
   "source": [
    "ed_user.id"
   ]
  },
  {
   "cell_type": "code",
   "execution_count": 9,
   "metadata": {},
   "outputs": [],
   "source": [
    "from sqlalchemy.orm import sessionmaker\n",
    "Session = sessionmaker(bind=engine)"
   ]
  },
  {
   "cell_type": "code",
   "execution_count": 10,
   "metadata": {},
   "outputs": [],
   "source": [
    "session = Session()"
   ]
  },
  {
   "cell_type": "code",
   "execution_count": 11,
   "metadata": {},
   "outputs": [],
   "source": [
    "session.add(ed_user)"
   ]
  },
  {
   "cell_type": "code",
   "execution_count": 12,
   "metadata": {},
   "outputs": [
    {
     "name": "stdout",
     "output_type": "stream",
     "text": [
      "2021-01-20 12:56:08,371 INFO sqlalchemy.engine.base.Engine BEGIN (implicit)\n",
      "2021-01-20 12:56:08,372 INFO sqlalchemy.engine.base.Engine INSERT INTO \"USERS\" (name, fullname, nickname) VALUES (?, ?, ?)\n",
      "2021-01-20 12:56:08,373 INFO sqlalchemy.engine.base.Engine ('ed', 'Ed Jones', 'edsnickname')\n",
      "2021-01-20 12:56:08,375 INFO sqlalchemy.engine.base.Engine SELECT \"USERS\".id AS \"USERS_id\", \"USERS\".name AS \"USERS_name\", \"USERS\".fullname AS \"USERS_fullname\", \"USERS\".nickname AS \"USERS_nickname\" \n",
      "FROM \"USERS\" \n",
      "WHERE \"USERS\".name = ?\n",
      " LIMIT ? OFFSET ?\n",
      "2021-01-20 12:56:08,376 INFO sqlalchemy.engine.base.Engine ('ed', 1, 0)\n"
     ]
    }
   ],
   "source": [
    "our_user = session.query(User).filter_by(name='ed').first()"
   ]
  },
  {
   "cell_type": "code",
   "execution_count": 13,
   "metadata": {},
   "outputs": [
    {
     "data": {
      "text/plain": [
       "<User(name='ed', fullname='Ed Jones', nickname='edsnickname')>"
      ]
     },
     "execution_count": 13,
     "metadata": {},
     "output_type": "execute_result"
    }
   ],
   "source": [
    "our_user"
   ]
  },
  {
   "cell_type": "code",
   "execution_count": 14,
   "metadata": {},
   "outputs": [],
   "source": [
    "session.add_all([\n",
    "     User(name='wendy', fullname='Wendy Williams', nickname='windy'),\n",
    "     User(name='mary', fullname='Mary Contrary', nickname='mary'),\n",
    "     User(name='fred', fullname='Fred Flintstone', nickname='freddy')])"
   ]
  },
  {
   "cell_type": "code",
   "execution_count": 15,
   "metadata": {},
   "outputs": [],
   "source": [
    "ed_user.nickname = 'eddie'"
   ]
  },
  {
   "cell_type": "code",
   "execution_count": 16,
   "metadata": {},
   "outputs": [
    {
     "data": {
      "text/plain": [
       "IdentitySet([<User(name='ed', fullname='Ed Jones', nickname='eddie')>])"
      ]
     },
     "execution_count": 16,
     "metadata": {},
     "output_type": "execute_result"
    }
   ],
   "source": [
    "session.dirty"
   ]
  },
  {
   "cell_type": "code",
   "execution_count": 17,
   "metadata": {},
   "outputs": [
    {
     "data": {
      "text/plain": [
       "IdentitySet([<User(name='wendy', fullname='Wendy Williams', nickname='windy')>, <User(name='mary', fullname='Mary Contrary', nickname='mary')>, <User(name='fred', fullname='Fred Flintstone', nickname='freddy')>])"
      ]
     },
     "execution_count": 17,
     "metadata": {},
     "output_type": "execute_result"
    }
   ],
   "source": [
    "session.new"
   ]
  },
  {
   "cell_type": "code",
   "execution_count": 18,
   "metadata": {},
   "outputs": [
    {
     "name": "stdout",
     "output_type": "stream",
     "text": [
      "2021-01-20 12:56:09,700 INFO sqlalchemy.engine.base.Engine UPDATE \"USERS\" SET nickname=? WHERE \"USERS\".id = ?\n",
      "2021-01-20 12:56:09,700 INFO sqlalchemy.engine.base.Engine ('eddie', 1)\n",
      "2021-01-20 12:56:09,701 INFO sqlalchemy.engine.base.Engine INSERT INTO \"USERS\" (name, fullname, nickname) VALUES (?, ?, ?)\n",
      "2021-01-20 12:56:09,702 INFO sqlalchemy.engine.base.Engine ('wendy', 'Wendy Williams', 'windy')\n",
      "2021-01-20 12:56:09,703 INFO sqlalchemy.engine.base.Engine INSERT INTO \"USERS\" (name, fullname, nickname) VALUES (?, ?, ?)\n",
      "2021-01-20 12:56:09,703 INFO sqlalchemy.engine.base.Engine ('mary', 'Mary Contrary', 'mary')\n",
      "2021-01-20 12:56:09,704 INFO sqlalchemy.engine.base.Engine INSERT INTO \"USERS\" (name, fullname, nickname) VALUES (?, ?, ?)\n",
      "2021-01-20 12:56:09,705 INFO sqlalchemy.engine.base.Engine ('fred', 'Fred Flintstone', 'freddy')\n",
      "2021-01-20 12:56:09,705 INFO sqlalchemy.engine.base.Engine COMMIT\n"
     ]
    }
   ],
   "source": [
    "session.commit()"
   ]
  },
  {
   "cell_type": "code",
   "execution_count": 19,
   "metadata": {},
   "outputs": [],
   "source": [
    "ed_user.name = 'Edwardo'"
   ]
  },
  {
   "cell_type": "code",
   "execution_count": 20,
   "metadata": {},
   "outputs": [],
   "source": [
    "fake_user = User(name='fakeuser', fullname='Invalid', nickname='12345')\n",
    "session.add(fake_user)"
   ]
  },
  {
   "cell_type": "code",
   "execution_count": 21,
   "metadata": {},
   "outputs": [
    {
     "name": "stdout",
     "output_type": "stream",
     "text": [
      "2021-01-20 12:56:10,925 INFO sqlalchemy.engine.base.Engine BEGIN (implicit)\n",
      "2021-01-20 12:56:10,926 INFO sqlalchemy.engine.base.Engine SELECT \"USERS\".id AS \"USERS_id\", \"USERS\".fullname AS \"USERS_fullname\", \"USERS\".nickname AS \"USERS_nickname\" \n",
      "FROM \"USERS\" \n",
      "WHERE \"USERS\".id = ?\n",
      "2021-01-20 12:56:10,927 INFO sqlalchemy.engine.base.Engine (1,)\n",
      "2021-01-20 12:56:10,928 INFO sqlalchemy.engine.base.Engine UPDATE \"USERS\" SET name=? WHERE \"USERS\".id = ?\n",
      "2021-01-20 12:56:10,929 INFO sqlalchemy.engine.base.Engine ('Edwardo', 1)\n",
      "2021-01-20 12:56:10,930 INFO sqlalchemy.engine.base.Engine INSERT INTO \"USERS\" (name, fullname, nickname) VALUES (?, ?, ?)\n",
      "2021-01-20 12:56:10,930 INFO sqlalchemy.engine.base.Engine ('fakeuser', 'Invalid', '12345')\n",
      "2021-01-20 12:56:10,931 INFO sqlalchemy.engine.base.Engine SELECT \"USERS\".id AS \"USERS_id\", \"USERS\".name AS \"USERS_name\", \"USERS\".fullname AS \"USERS_fullname\", \"USERS\".nickname AS \"USERS_nickname\" \n",
      "FROM \"USERS\" \n",
      "WHERE \"USERS\".name IN (?, ?)\n",
      "2021-01-20 12:56:10,932 INFO sqlalchemy.engine.base.Engine ('Edwardo', 'fakeuser')\n"
     ]
    },
    {
     "data": {
      "text/plain": [
       "[<User(name='Edwardo', fullname='Ed Jones', nickname='eddie')>,\n",
       " <User(name='fakeuser', fullname='Invalid', nickname='12345')>]"
      ]
     },
     "execution_count": 21,
     "metadata": {},
     "output_type": "execute_result"
    }
   ],
   "source": [
    "session.query(User).filter(User.name.in_(['Edwardo', 'fakeuser'])).all()"
   ]
  },
  {
   "cell_type": "code",
   "execution_count": 22,
   "metadata": {},
   "outputs": [
    {
     "name": "stdout",
     "output_type": "stream",
     "text": [
      "2021-01-20 12:56:11,304 INFO sqlalchemy.engine.base.Engine ROLLBACK\n"
     ]
    }
   ],
   "source": [
    "session.rollback()"
   ]
  },
  {
   "cell_type": "code",
   "execution_count": 23,
   "metadata": {},
   "outputs": [
    {
     "name": "stdout",
     "output_type": "stream",
     "text": [
      "2021-01-20 12:56:11,692 INFO sqlalchemy.engine.base.Engine BEGIN (implicit)\n",
      "2021-01-20 12:56:11,693 INFO sqlalchemy.engine.base.Engine SELECT \"USERS\".id AS \"USERS_id\", \"USERS\".name AS \"USERS_name\", \"USERS\".fullname AS \"USERS_fullname\", \"USERS\".nickname AS \"USERS_nickname\" \n",
      "FROM \"USERS\" \n",
      "WHERE \"USERS\".name IN (?, ?)\n",
      "2021-01-20 12:56:11,694 INFO sqlalchemy.engine.base.Engine ('Edwardo', 'fakeuser')\n"
     ]
    },
    {
     "data": {
      "text/plain": [
       "[]"
      ]
     },
     "execution_count": 23,
     "metadata": {},
     "output_type": "execute_result"
    }
   ],
   "source": [
    "session.query(User).filter(User.name.in_(['Edwardo', 'fakeuser'])).all()"
   ]
  },
  {
   "cell_type": "code",
   "execution_count": 26,
   "metadata": {},
   "outputs": [
    {
     "name": "stdout",
     "output_type": "stream",
     "text": [
      "2021-01-20 12:59:22,557 INFO sqlalchemy.engine.base.Engine SELECT \"USERS\".id AS \"USERS_id\", \"USERS\".name AS \"USERS_name\", \"USERS\".fullname AS \"USERS_fullname\", \"USERS\".nickname AS \"USERS_nickname\" \n",
      "FROM \"USERS\" ORDER BY \"USERS\".id\n",
      "2021-01-20 12:59:22,558 INFO sqlalchemy.engine.base.Engine ()\n",
      "ed Ed Jones\n",
      "wendy Wendy Williams\n",
      "mary Mary Contrary\n",
      "fred Fred Flintstone\n"
     ]
    }
   ],
   "source": [
    "for instance in session.query(User).order_by(User.id):\n",
    "    print(instance.name, instance.fullname)"
   ]
  },
  {
   "cell_type": "code",
   "execution_count": 32,
   "metadata": {},
   "outputs": [
    {
     "name": "stdout",
     "output_type": "stream",
     "text": [
      "2021-01-20 13:00:27,865 INFO sqlalchemy.engine.base.Engine SELECT \"USERS\".fullname AS name_label \n",
      "FROM \"USERS\"\n",
      "2021-01-20 13:00:27,866 INFO sqlalchemy.engine.base.Engine ()\n",
      "Ed Jones\n",
      "Wendy Williams\n",
      "Mary Contrary\n",
      "Fred Flintstone\n"
     ]
    }
   ],
   "source": [
    "for row in session.query(User.fullname.label('name_label')).all():\n",
    "    print(row.name_label)"
   ]
  },
  {
   "cell_type": "code",
   "execution_count": null,
   "metadata": {},
   "outputs": [],
   "source": []
  }
 ],
 "metadata": {
  "kernelspec": {
   "display_name": "Python 3",
   "language": "python",
   "name": "python3"
  },
  "language_info": {
   "codemirror_mode": {
    "name": "ipython",
    "version": 3
   },
   "file_extension": ".py",
   "mimetype": "text/x-python",
   "name": "python",
   "nbconvert_exporter": "python",
   "pygments_lexer": "ipython3",
   "version": "3.9.6"
  }
 },
 "nbformat": 4,
 "nbformat_minor": 4
}
