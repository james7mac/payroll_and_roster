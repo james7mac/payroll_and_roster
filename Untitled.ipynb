{
 "cells": [
  {
   "cell_type": "code",
   "execution_count": 1,
   "metadata": {},
   "outputs": [],
   "source": [
    "import pandas as pd\n",
    "from datetime import datetime"
   ]
  },
  {
   "cell_type": "code",
   "execution_count": 2,
   "metadata": {},
   "outputs": [
    {
     "name": "stderr",
     "output_type": "stream",
     "text": [
      " 2021-01-11 13:28:10,927 - DEBUG- Start of program\n"
     ]
    },
    {
     "name": "stdout",
     "output_type": "stream",
     "text": [
      "2020-01-01   New Year's Day\n",
      "2020-01-26   Australia Day\n",
      "2020-01-27   Australia Day (Observed)\n",
      "2020-03-09   Labour Day\n",
      "2020-04-10   Good Friday\n",
      "2020-04-11   Easter Saturday\n",
      "2020-04-12   Easter Sunday\n",
      "2020-04-13   Easter Monday\n",
      "2020-04-25   Anzac Day\n",
      "2020-06-08   Queen's Birthday\n",
      "2020-10-23   Grand Final Day\n",
      "2020-11-03   Melbourne Cup\n",
      "2020-12-25   Christmas Day\n",
      "2020-12-26   Boxing Day\n",
      "2020-12-28   Boxing Day (Observed)\n",
      "A:\\Python\\payroll_and_roster\\\\MasterRoster.pdf\n"
     ]
    }
   ],
   "source": [
    "import tabula, roster, os\n",
    "if os.environ['COMPUTERNAME'] == 'JMLAPTOP':\n",
    "    pdfPath =   r'C:\\Users\\james\\PycharmProjects\\payroll_and_roster\\MasterRoster.pdf'\n",
    "elif os.environ['COMPUTERNAME'] == 'JAMESPC':\n",
    "    pdfPath = r'A:\\Python\\payroll_and_roster\\\\MasterRoster.pdf'\n",
    "print(pdfPath)"
   ]
  },
  {
   "cell_type": "code",
   "execution_count": 3,
   "metadata": {
    "scrolled": true
   },
   "outputs": [],
   "source": [
    "pdfFullPages = 8 + 1 \n",
    "lastPcoords = [148.6, 107.0 ,1166.4, 251.5]\n",
    "tabular_roster = pd.DataFrame()\n",
    "for i in range(1,pdfFullPages+1):\n",
    "    roster_pdf = open(pdfPath,'rb')\n",
    "    #coords of the area in the roster found using GIMP:\n",
    "    if i == pdfFullPages+1:\n",
    "        x = tabula.read_pdf(roster_pdf, pages=int(i), lattice=1, area=lastPcoords)\n",
    "        print('AA')\n",
    "    else:\n",
    "        x = tabula.read_pdf(roster_pdf, pages=int(i), lattice=1, area=[100,149,589, 1167.9])\n",
    "    x.dropna(axis=0, thresh=30, inplace=True)\n",
    "    x.dropna(axis=1,how='all', inplace=True)\n",
    "    x.columns = [str(i) for i in range(1,15)] + ['h1'] + [str(i) for i in range(15,29)] + ['h2']\n",
    "    tabular_roster = tabular_roster.append(x)\n",
    "    \n",
    "tabular_roster.index = [str(i+1) for i in range(len(tabular_roster))]\n",
    "tabular_roster.drop(['h1', 'h2'], axis=1, inplace=True)"
   ]
  },
  {
   "cell_type": "code",
   "execution_count": 4,
   "metadata": {
    "scrolled": true
   },
   "outputs": [],
   "source": [
    "def fix_times(timeStr):\n",
    "    if timeStr == '2400':\n",
    "        timeStr='0000'\n",
    "    return datetime.strptime(timeStr, \"%H%M\").time()\n",
    "    \n",
    "def fix_cell(x):\n",
    "    fix_cell.helper +=1\n",
    "    try:\n",
    "        if x.startswith('OFF'):\n",
    "            items = {'id': 'OFF', 'hours':None, 'start':None, 'finish': None, 'rest':False}\n",
    "        elif x.startswith('SPE'):\n",
    "            items = x.split('\\r')\n",
    "            fixTimes = items[2].split('-')\n",
    "            del items[2]\n",
    "            fixTimes = [fix_times(i) for i in fixTimes]\n",
    "            items = {'id':items[0], 'hours':items[1], 'start':fixTimes[0], 'finish':fixTimes[1], 'rest':False}\n",
    "            if x.startswith('SPEX'):\n",
    "                items['rest'] = True\n",
    "        elif x.startswith('EDO'):\n",
    "            items = {'id': 'EDO', 'hours':None, 'start':None, 'finish': None, 'rest':False}\n",
    "        elif x.lower().startswith('av'):\n",
    "            start, finish = x.split('\\r')[-1].split('-')\n",
    "            job = {'id':'AV', 'hours':'8:00', 'start':fix_times(start), 'finish':fix_times(finish), 'rest':False}\n",
    "            return job\n",
    "        else:\n",
    "            print([x])\n",
    "            return x\n",
    "        return items\n",
    "    except(IndexError):\n",
    "        print('INDEX ERROR PASSING FOLLOWING:  ' + x)\n",
    "        print('col ' + str(fix_cell.helper//len(tabular_roster)))\n",
    "        print('row ' + str(fix_cell.helper%len(tabular_roster)))\n",
    "        return x\n",
    "fix_cell.helper = 0"
   ]
  },
  {
   "cell_type": "code",
   "execution_count": 5,
   "metadata": {},
   "outputs": [],
   "source": [
    "tabular_roster = tabular_roster.applymap(fix_cell)"
   ]
  },
  {
   "cell_type": "code",
   "execution_count": 6,
   "metadata": {},
   "outputs": [],
   "source": [
    "#tabular_roster.index.name = 'rost_line'\n",
    "#tabular_roster.rename_axis('day', axis=1)"
   ]
  },
  {
   "cell_type": "code",
   "execution_count": 7,
   "metadata": {},
   "outputs": [],
   "source": [
    "df = pd.DataFrame()\n",
    "for i in tabular_roster.iterrows():\n",
    "        for ii, dic in enumerate(i[1]):\n",
    "            dic['rosDay'] = ii + 1\n",
    "            dic['rosLine'] = int(i[0])\n",
    "            temp_df = pd.DataFrame(dic, index=[0])\n",
    "            df = df.append(temp_df)"
   ]
  },
  {
   "cell_type": "code",
   "execution_count": 8,
   "metadata": {
    "scrolled": true
   },
   "outputs": [
    {
     "data": {
      "text/plain": [
       "86"
      ]
     },
     "execution_count": 8,
     "metadata": {},
     "output_type": "execute_result"
    }
   ],
   "source": [
    "a = df.set_index(['rosLine','rosDay'])\n",
    "a.index.get_loc((4,3))"
   ]
  },
  {
   "cell_type": "code",
   "execution_count": 9,
   "metadata": {},
   "outputs": [
    {
     "data": {
      "text/html": [
       "<div>\n",
       "<style scoped>\n",
       "    .dataframe tbody tr th:only-of-type {\n",
       "        vertical-align: middle;\n",
       "    }\n",
       "\n",
       "    .dataframe tbody tr th {\n",
       "        vertical-align: top;\n",
       "    }\n",
       "\n",
       "    .dataframe thead th {\n",
       "        text-align: right;\n",
       "    }\n",
       "</style>\n",
       "<table border=\"1\" class=\"dataframe\">\n",
       "  <thead>\n",
       "    <tr style=\"text-align: right;\">\n",
       "      <th></th>\n",
       "      <th></th>\n",
       "      <th>id</th>\n",
       "      <th>hours</th>\n",
       "      <th>start</th>\n",
       "      <th>finish</th>\n",
       "      <th>rest</th>\n",
       "    </tr>\n",
       "    <tr>\n",
       "      <th>rosLine</th>\n",
       "      <th>rosDay</th>\n",
       "      <th></th>\n",
       "      <th></th>\n",
       "      <th></th>\n",
       "      <th></th>\n",
       "      <th></th>\n",
       "    </tr>\n",
       "  </thead>\n",
       "  <tbody>\n",
       "    <tr>\n",
       "      <th rowspan=\"5\" valign=\"top\">1</th>\n",
       "      <th>1</th>\n",
       "      <td>OFF</td>\n",
       "      <td>None</td>\n",
       "      <td>None</td>\n",
       "      <td>None</td>\n",
       "      <td>False</td>\n",
       "    </tr>\n",
       "    <tr>\n",
       "      <th>2</th>\n",
       "      <td>OFF</td>\n",
       "      <td>None</td>\n",
       "      <td>None</td>\n",
       "      <td>None</td>\n",
       "      <td>False</td>\n",
       "    </tr>\n",
       "    <tr>\n",
       "      <th>3</th>\n",
       "      <td>SPER109</td>\n",
       "      <td>5:50</td>\n",
       "      <td>06:59:00</td>\n",
       "      <td>12:49:00</td>\n",
       "      <td>False</td>\n",
       "    </tr>\n",
       "    <tr>\n",
       "      <th>4</th>\n",
       "      <td>SPEX112</td>\n",
       "      <td>6:04</td>\n",
       "      <td>06:00:00</td>\n",
       "      <td>12:04:00</td>\n",
       "      <td>True</td>\n",
       "    </tr>\n",
       "    <tr>\n",
       "      <th>5</th>\n",
       "      <td>SPE130</td>\n",
       "      <td>6:46</td>\n",
       "      <td>04:59:00</td>\n",
       "      <td>11:45:00</td>\n",
       "      <td>False</td>\n",
       "    </tr>\n",
       "    <tr>\n",
       "      <th>...</th>\n",
       "      <th>...</th>\n",
       "      <td>...</td>\n",
       "      <td>...</td>\n",
       "      <td>...</td>\n",
       "      <td>...</td>\n",
       "      <td>...</td>\n",
       "    </tr>\n",
       "    <tr>\n",
       "      <th rowspan=\"5\" valign=\"top\">83</th>\n",
       "      <th>24</th>\n",
       "      <td>AV</td>\n",
       "      <td>8:00</td>\n",
       "      <td>11:00:00</td>\n",
       "      <td>19:00:00</td>\n",
       "      <td>False</td>\n",
       "    </tr>\n",
       "    <tr>\n",
       "      <th>25</th>\n",
       "      <td>AV</td>\n",
       "      <td>8:00</td>\n",
       "      <td>11:00:00</td>\n",
       "      <td>19:00:00</td>\n",
       "      <td>False</td>\n",
       "    </tr>\n",
       "    <tr>\n",
       "      <th>26</th>\n",
       "      <td>AV</td>\n",
       "      <td>8:00</td>\n",
       "      <td>11:00:00</td>\n",
       "      <td>19:00:00</td>\n",
       "      <td>False</td>\n",
       "    </tr>\n",
       "    <tr>\n",
       "      <th>27</th>\n",
       "      <td>AV</td>\n",
       "      <td>8:00</td>\n",
       "      <td>11:00:00</td>\n",
       "      <td>19:00:00</td>\n",
       "      <td>False</td>\n",
       "    </tr>\n",
       "    <tr>\n",
       "      <th>28</th>\n",
       "      <td>OFF</td>\n",
       "      <td>None</td>\n",
       "      <td>None</td>\n",
       "      <td>None</td>\n",
       "      <td>False</td>\n",
       "    </tr>\n",
       "  </tbody>\n",
       "</table>\n",
       "<p>2324 rows × 5 columns</p>\n",
       "</div>"
      ],
      "text/plain": [
       "                     id hours     start    finish   rest\n",
       "rosLine rosDay                                          \n",
       "1       1           OFF  None      None      None  False\n",
       "        2           OFF  None      None      None  False\n",
       "        3       SPER109  5:50  06:59:00  12:49:00  False\n",
       "        4       SPEX112  6:04  06:00:00  12:04:00   True\n",
       "        5        SPE130  6:46  04:59:00  11:45:00  False\n",
       "...                 ...   ...       ...       ...    ...\n",
       "83      24           AV  8:00  11:00:00  19:00:00  False\n",
       "        25           AV  8:00  11:00:00  19:00:00  False\n",
       "        26           AV  8:00  11:00:00  19:00:00  False\n",
       "        27           AV  8:00  11:00:00  19:00:00  False\n",
       "        28          OFF  None      None      None  False\n",
       "\n",
       "[2324 rows x 5 columns]"
      ]
     },
     "execution_count": 9,
     "metadata": {},
     "output_type": "execute_result"
    }
   ],
   "source": [
    "a"
   ]
  },
  {
   "cell_type": "code",
   "execution_count": null,
   "metadata": {},
   "outputs": [],
   "source": []
  },
  {
   "cell_type": "code",
   "execution_count": null,
   "metadata": {},
   "outputs": [],
   "source": []
  },
  {
   "cell_type": "code",
   "execution_count": null,
   "metadata": {},
   "outputs": [],
   "source": []
  },
  {
   "cell_type": "code",
   "execution_count": null,
   "metadata": {},
   "outputs": [],
   "source": []
  },
  {
   "cell_type": "code",
   "execution_count": null,
   "metadata": {},
   "outputs": [],
   "source": []
  },
  {
   "cell_type": "code",
   "execution_count": null,
   "metadata": {},
   "outputs": [],
   "source": []
  }
 ],
 "metadata": {
  "kernelspec": {
   "display_name": "ROSTERING",
   "language": "python",
   "name": "rostering"
  },
  "language_info": {
   "codemirror_mode": {
    "name": "ipython",
    "version": 3
   },
   "file_extension": ".py",
   "mimetype": "text/x-python",
   "name": "python",
   "nbconvert_exporter": "python",
   "pygments_lexer": "ipython3",
   "version": "3.9.1"
  }
 },
 "nbformat": 4,
 "nbformat_minor": 4
}
